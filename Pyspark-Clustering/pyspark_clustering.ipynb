{
 "cells": [
  {
   "cell_type": "markdown",
   "metadata": {
    "application/vnd.databricks.v1+cell": {
     "cellMetadata": {},
     "inputWidgets": {},
     "nuid": "11e6bbcc-db68-4092-b78d-37c637ba38e6",
     "showTitle": false,
     "title": ""
    }
   },
   "source": [
    "# Clustering using PySpark ML Pipeline\n",
 "1. Imports\n",
 "2. Load Data<br>",
 "&emsp;2.1 Split data<br>\n",
 "3. Test Pipeline components <br>",
 "&emsp;3.1 Tokenize <br>",
 "&emsp;3.2 Count Vectorizer <br>",
 "&emsp;3.3 Logistic Regression <br>\n",
 "4. Testing Pipeline<br>\n",
 "5. Pipeline + Cross-validation + Tuning  **<======== Final pipeline**<br>",
 "&emsp;5.1 Define pipeline <br>",
 "&emsp;5.2 Define Hyper-parameter grid <br>",
 "&emsp;5.3 Define Cross validation params <br>",
 "&emsp;5.4 Get best CV model <br>",
 "&emsp;5.5 Predictions form best CV model <br>",
 "&emsp;5.6 Compute Eval metrics"
   ]
  },
  {
   "cell_type": "markdown",
   "metadata": {
    "application/vnd.databricks.v1+cell": {
     "cellMetadata": {},
     "inputWidgets": {},
     "nuid": "30c530ec-38ca-4389-8273-322f0722e8fa",
     "showTitle": false,
     "title": ""
    }
   },
   "source": [
    "## 1. Imports"
   ]
  },
  {
   "cell_type": "code",
   "execution_count": 0,
   "metadata": {
    "application/vnd.databricks.v1+cell": {
     "cellMetadata": {},
     "inputWidgets": {},
     "nuid": "4706e408-872d-4d50-86af-8dac4b8d2a86",
     "showTitle": false,
     "title": ""
    }
   },
   "outputs": [
    {
     "data": {
      "text/html": [
       "<style scoped>\n",
       "  .ansiout {\n",
       "    display: block;\n",
       "    unicode-bidi: embed;\n",
       "    white-space: pre-wrap;\n",
       "    word-wrap: break-word;\n",
       "    word-break: break-all;\n",
       "    font-family: \"Source Code Pro\", \"Menlo\", monospace;;\n",
       "    font-size: 13px;\n",
       "    color: #555;\n",
       "    margin-left: 4px;\n",
       "    line-height: 19px;\n",
       "  }\n",
       "</style>\n",
       "<div class=\"ansiout\"></div>"
      ]
     },
     "metadata": {
      "application/vnd.databricks.v1+output": {
       "addedWidgets": {},
       "arguments": {},
       "data": "<div class=\"ansiout\"></div>",
       "datasetInfos": [],
       "metadata": {},
       "removedWidgets": [],
       "type": "html"
      }
     },
     "output_type": "display_data"
    }
   ],
   "source": [
    "import numpy as np\n",
    "from pyspark.ml.clustering import KMeans\n",
    "from pyspark.ml.feature import  StringIndexer, OneHotEncoder,VectorAssembler,StandardScaler\n",
    "from pyspark.sql import SparkSession\n",
    "from pyspark import SparkContext, SparkConf\n",
    "from pyspark.ml.tuning import CrossValidator, ParamGridBuilder\n",
    "from pyspark.ml.evaluation import ClusteringEvaluator\n",
    "from pyspark.sql.functions import col\n",
    "from sklearn.metrics import r2_score\n",
    "from pyspark.sql.functions import *\n",
    "from pyspark.sql.types import *\n",
    "import pandas as pd\n",
    "import matplotlib.pyplot as plt\n",
    "import seaborn as sns"
   ]
  },
  {
   "cell_type": "code",
   "execution_count": 0,
   "metadata": {
    "application/vnd.databricks.v1+cell": {
     "cellMetadata": {},
     "inputWidgets": {},
     "nuid": "dcf72419-e5b0-408a-a488-b31af8fd4c90",
     "showTitle": false,
     "title": ""
    }
   },
   "outputs": [
    {
     "data": {
      "text/html": [
       "<style scoped>\n",
       "  .ansiout {\n",
       "    display: block;\n",
       "    unicode-bidi: embed;\n",
       "    white-space: pre-wrap;\n",
       "    word-wrap: break-word;\n",
       "    word-break: break-all;\n",
       "    font-family: \"Source Code Pro\", \"Menlo\", monospace;;\n",
       "    font-size: 13px;\n",
       "    color: #555;\n",
       "    margin-left: 4px;\n",
       "    line-height: 19px;\n",
       "  }\n",
       "</style>\n",
       "<div class=\"ansiout\"></div>"
      ]
     },
     "metadata": {
      "application/vnd.databricks.v1+output": {
       "addedWidgets": {},
       "arguments": {},
       "data": "<div class=\"ansiout\"></div>",
       "datasetInfos": [],
       "metadata": {},
       "removedWidgets": [],
       "type": "html"
      }
     },
     "output_type": "display_data"
    }
   ],
   "source": [
    "spark = SparkSession.builder.getOrCreate()"
   ]
  },
  {
   "cell_type": "markdown",
   "metadata": {
    "application/vnd.databricks.v1+cell": {
     "cellMetadata": {},
     "inputWidgets": {},
     "nuid": "b9c63979-04da-4e2a-a4d4-738d2c7dceea",
     "showTitle": false,
     "title": ""
    }
   },
   "source": [
    "## 2. Load Data"
   ]
  },
  {
   "cell_type": "code",
   "execution_count": 0,
   "metadata": {
    "application/vnd.databricks.v1+cell": {
     "cellMetadata": {},
     "inputWidgets": {},
     "nuid": "db7b2f80-332d-4c01-bcbe-29b4b3bed293",
     "showTitle": false,
     "title": ""
    }
   },
   "outputs": [
    {
     "data": {
      "text/html": [
       "<style scoped>\n",
       "  .ansiout {\n",
       "    display: block;\n",
       "    unicode-bidi: embed;\n",
       "    white-space: pre-wrap;\n",
       "    word-wrap: break-word;\n",
       "    word-break: break-all;\n",
       "    font-family: \"Source Code Pro\", \"Menlo\", monospace;;\n",
       "    font-size: 13px;\n",
       "    color: #555;\n",
       "    margin-left: 4px;\n",
       "    line-height: 19px;\n",
       "  }\n",
       "</style>\n",
       "<div class=\"ansiout\"></div>"
      ]
     },
     "metadata": {
      "application/vnd.databricks.v1+output": {
       "addedWidgets": {},
       "arguments": {},
       "data": "<div class=\"ansiout\"></div>",
       "datasetInfos": [],
       "metadata": {},
       "removedWidgets": [],
       "type": "html"
      }
     },
     "output_type": "display_data"
    }
   ],
   "source": [
    "# Load file\n",
    "data_sparkdf = spark.read.format(\"csv\").option(\"header\", \"true\").load(\"dbfs:/FileStore/shared_uploads/{user-directory}/Online_Retail.csv\")"
   ]
  },
  {
   "cell_type": "code",
   "execution_count": 0,
   "metadata": {
    "application/vnd.databricks.v1+cell": {
     "cellMetadata": {},
     "inputWidgets": {},
     "nuid": "858d44af-6f94-4feb-afe7-65bf53ea311d",
     "showTitle": false,
     "title": ""
    }
   },
   "outputs": [
    {
     "data": {
      "text/html": [
       "<style scoped>\n",
       "  .ansiout {\n",
       "    display: block;\n",
       "    unicode-bidi: embed;\n",
       "    white-space: pre-wrap;\n",
       "    word-wrap: break-word;\n",
       "    word-break: break-all;\n",
       "    font-family: \"Source Code Pro\", \"Menlo\", monospace;;\n",
       "    font-size: 13px;\n",
       "    color: #555;\n",
       "    margin-left: 4px;\n",
       "    line-height: 19px;\n",
       "  }\n",
       "</style>\n",
       "<div class=\"ansiout\">Out[9]: 541909</div>"
      ]
     },
     "metadata": {
      "application/vnd.databricks.v1+output": {
       "addedWidgets": {},
       "arguments": {},
       "data": "<div class=\"ansiout\">Out[9]: 541909</div>",
       "datasetInfos": [],
       "metadata": {},
       "removedWidgets": [],
       "type": "html"
      }
     },
     "output_type": "display_data"
    }
   ],
   "source": [
    "data_sparkdf.count()"
   ]
  },
  {
   "cell_type": "code",
   "execution_count": 0,
   "metadata": {
    "application/vnd.databricks.v1+cell": {
     "cellMetadata": {},
     "inputWidgets": {},
     "nuid": "bcc9a2d9-bd00-4ab0-83bb-23976c477257",
     "showTitle": false,
     "title": ""
    }
   },
   "outputs": [
    {
     "data": {
      "text/html": [
       "<style scoped>\n",
       "  .ansiout {\n",
       "    display: block;\n",
       "    unicode-bidi: embed;\n",
       "    white-space: pre-wrap;\n",
       "    word-wrap: break-word;\n",
       "    word-break: break-all;\n",
       "    font-family: \"Source Code Pro\", \"Menlo\", monospace;;\n",
       "    font-size: 13px;\n",
       "    color: #555;\n",
       "    margin-left: 4px;\n",
       "    line-height: 19px;\n",
       "  }\n",
       "</style>\n",
       "<div class=\"ansiout\">root\n",
       "-- InvoiceNo: string (nullable = true)\n",
       "-- StockCode: string (nullable = true)\n",
       "-- Description: string (nullable = true)\n",
       "-- Quantity: string (nullable = true)\n",
       "-- InvoiceDate: string (nullable = true)\n",
       "-- UnitPrice: string (nullable = true)\n",
       "-- CustomerID: string (nullable = true)\n",
       "-- Country: string (nullable = true)\n",
       "\n",
       "</div>"
      ]
     },
     "metadata": {
      "application/vnd.databricks.v1+output": {
       "addedWidgets": {},
       "arguments": {},
       "data": "<div class=\"ansiout\">root\n |-- InvoiceNo: string (nullable = true)\n |-- StockCode: string (nullable = true)\n |-- Description: string (nullable = true)\n |-- Quantity: string (nullable = true)\n |-- InvoiceDate: string (nullable = true)\n |-- UnitPrice: string (nullable = true)\n |-- CustomerID: string (nullable = true)\n |-- Country: string (nullable = true)\n\n</div>",
       "datasetInfos": [],
       "metadata": {},
       "removedWidgets": [],
       "type": "html"
      }
     },
     "output_type": "display_data"
    }
   ],
   "source": [
    "data_sparkdf.printSchema()"
   ]
  },
  {
   "cell_type": "code",
   "execution_count": 0,
   "metadata": {
    "application/vnd.databricks.v1+cell": {
     "cellMetadata": {},
     "inputWidgets": {},
     "nuid": "b33c823c-a140-4015-ad3e-c05f082bac29",
     "showTitle": false,
     "title": ""
    }
   },
   "outputs": [
    {
     "data": {
      "text/html": [
       "<style scoped>\n",
       "  .ansiout {\n",
       "    display: block;\n",
       "    unicode-bidi: embed;\n",
       "    white-space: pre-wrap;\n",
       "    word-wrap: break-word;\n",
       "    word-break: break-all;\n",
       "    font-family: \"Source Code Pro\", \"Menlo\", monospace;;\n",
       "    font-size: 13px;\n",
       "    color: #555;\n",
       "    margin-left: 4px;\n",
       "    line-height: 19px;\n",
       "  }\n",
       "</style>\n",
       "<div class=\"ansiout\">root\n",
       "-- InvoiceNo: string (nullable = true)\n",
       "-- StockCode: string (nullable = true)\n",
       "-- Description: string (nullable = true)\n",
       "-- Quantity: integer (nullable = true)\n",
       "-- InvoiceDate: string (nullable = true)\n",
       "-- UnitPrice: float (nullable = true)\n",
       "-- CustomerID: string (nullable = true)\n",
       "-- Country: string (nullable = true)\n",
       "-- date: timestamp (nullable = true)\n",
       "\n",
       "</div>"
      ]
     },
     "metadata": {
      "application/vnd.databricks.v1+output": {
       "addedWidgets": {},
       "arguments": {},
       "data": "<div class=\"ansiout\">root\n |-- InvoiceNo: string (nullable = true)\n |-- StockCode: string (nullable = true)\n |-- Description: string (nullable = true)\n |-- Quantity: integer (nullable = true)\n |-- InvoiceDate: string (nullable = true)\n |-- UnitPrice: float (nullable = true)\n |-- CustomerID: string (nullable = true)\n |-- Country: string (nullable = true)\n |-- date: timestamp (nullable = true)\n\n</div>",
       "datasetInfos": [],
       "metadata": {},
       "removedWidgets": [],
       "type": "html"
      }
     },
     "output_type": "display_data"
    }
   ],
   "source": [
    "### Datatype conversion\n",
    "spark.sql(\"set spark.sql.legacy.timeParserPolicy=LEGACY\")\n",
    "\n",
    "data_sparkdf = data_sparkdf.withColumn(\"Quantity\",col(\"Quantity\").cast('integer'))\\\n",
    "            .withColumn(\"UnitPrice\",col(\"UnitPrice\").cast('float'))\\\n",
    "            .withColumn('date',to_timestamp(\"InvoiceDate\", 'MM/dd/yy HH:mm'))\n",
    "\n",
    "\n",
    "data_sparkdf.printSchema()"
   ]
  },
  {
   "cell_type": "code",
   "execution_count": 0,
   "metadata": {
    "application/vnd.databricks.v1+cell": {
     "cellMetadata": {},
     "inputWidgets": {},
     "nuid": "6e72e8dd-3aa1-4a12-a8ba-a70c324176ba",
     "showTitle": false,
     "title": ""
    }
   },
   "outputs": [
    {
     "data": {
      "text/html": [
       "<style scoped>\n",
       "  .ansiout {\n",
       "    display: block;\n",
       "    unicode-bidi: embed;\n",
       "    white-space: pre-wrap;\n",
       "    word-wrap: break-word;\n",
       "    word-break: break-all;\n",
       "    font-family: \"Source Code Pro\", \"Menlo\", monospace;;\n",
       "    font-size: 13px;\n",
       "    color: #555;\n",
       "    margin-left: 4px;\n",
       "    line-height: 19px;\n",
       "  }\n",
       "</style>\n",
       "<div class=\"ansiout\">+---------+---------+--------------------+--------+--------------+---------+----------+--------------+-------------------+\n",
       "InvoiceNo|StockCode|         Description|Quantity|   InvoiceDate|UnitPrice|CustomerID|       Country|               date|\n",
       "+---------+---------+--------------------+--------+--------------+---------+----------+--------------+-------------------+\n",
       "   536365|   85123A|WHITE HANGING HEA...|       6|12/1/2010 8:26|     2.55|     17850|United Kingdom|2010-12-01 08:26:00|\n",
       "   536365|    71053| WHITE METAL LANTERN|       6|12/1/2010 8:26|     3.39|     17850|United Kingdom|2010-12-01 08:26:00|\n",
       "+---------+---------+--------------------+--------+--------------+---------+----------+--------------+-------------------+\n",
       "only showing top 2 rows\n",
       "\n",
       "</div>"
      ]
     },
     "metadata": {
      "application/vnd.databricks.v1+output": {
       "addedWidgets": {},
       "arguments": {},
       "data": "<div class=\"ansiout\">+---------+---------+--------------------+--------+--------------+---------+----------+--------------+-------------------+\n|InvoiceNo|StockCode|         Description|Quantity|   InvoiceDate|UnitPrice|CustomerID|       Country|               date|\n+---------+---------+--------------------+--------+--------------+---------+----------+--------------+-------------------+\n|   536365|   85123A|WHITE HANGING HEA...|       6|12/1/2010 8:26|     2.55|     17850|United Kingdom|2010-12-01 08:26:00|\n|   536365|    71053| WHITE METAL LANTERN|       6|12/1/2010 8:26|     3.39|     17850|United Kingdom|2010-12-01 08:26:00|\n+---------+---------+--------------------+--------+--------------+---------+----------+--------------+-------------------+\nonly showing top 2 rows\n\n</div>",
       "datasetInfos": [],
       "metadata": {},
       "removedWidgets": [],
       "type": "html"
      }
     },
     "output_type": "display_data"
    }
   ],
   "source": [
    "data_sparkdf.show(2)"
   ]
  },
  {
   "cell_type": "code",
   "execution_count": 0,
   "metadata": {
    "application/vnd.databricks.v1+cell": {
     "cellMetadata": {},
     "inputWidgets": {},
     "nuid": "286b7abb-a0a4-4b1c-9439-ca73eff2a9bb",
     "showTitle": false,
     "title": ""
    }
   },
   "outputs": [
    {
     "data": {
      "text/html": [
       "<style scoped>\n",
       "  .ansiout {\n",
       "    display: block;\n",
       "    unicode-bidi: embed;\n",
       "    white-space: pre-wrap;\n",
       "    word-wrap: break-word;\n",
       "    word-break: break-all;\n",
       "    font-family: \"Source Code Pro\", \"Menlo\", monospace;;\n",
       "    font-size: 13px;\n",
       "    color: #555;\n",
       "    margin-left: 4px;\n",
       "    line-height: 19px;\n",
       "  }\n",
       "</style>\n",
       "<div class=\"ansiout\">Out[13]: 406829</div>"
      ]
     },
     "metadata": {
      "application/vnd.databricks.v1+output": {
       "addedWidgets": {},
       "arguments": {},
       "data": "<div class=\"ansiout\">Out[13]: 406829</div>",
       "datasetInfos": [],
       "metadata": {},
       "removedWidgets": [],
       "type": "html"
      }
     },
     "output_type": "display_data"
    }
   ],
   "source": [
    "# Drop rows with empty customer IDs\n",
    "data_sparkdf = data_sparkdf.na.drop(subset=[\"CustomerID\"])\n",
    "data_sparkdf.count()"
   ]
  },
  {
   "cell_type": "code",
   "execution_count": 0,
   "metadata": {
    "application/vnd.databricks.v1+cell": {
     "cellMetadata": {},
     "inputWidgets": {},
     "nuid": "fa081f11-9f0e-4312-a89d-7bba85133890",
     "showTitle": false,
     "title": ""
    }
   },
   "outputs": [
    {
     "data": {
      "text/html": [
       "<style scoped>\n",
       "  .ansiout {\n",
       "    display: block;\n",
       "    unicode-bidi: embed;\n",
       "    white-space: pre-wrap;\n",
       "    word-wrap: break-word;\n",
       "    word-break: break-all;\n",
       "    font-family: \"Source Code Pro\", \"Menlo\", monospace;;\n",
       "    font-size: 13px;\n",
       "    color: #555;\n",
       "    margin-left: 4px;\n",
       "    line-height: 19px;\n",
       "  }\n",
       "</style>\n",
       "<div class=\"ansiout\"></div>"
      ]
     },
     "metadata": {
      "application/vnd.databricks.v1+output": {
       "addedWidgets": {},
       "arguments": {},
       "data": "<div class=\"ansiout\"></div>",
       "datasetInfos": [],
       "metadata": {},
       "removedWidgets": [],
       "type": "html"
      }
     },
     "output_type": "display_data"
    }
   ],
   "source": [
    "# Removing data points with values less than 0\n",
    "data_sparkdf = data_sparkdf.where(data_sparkdf.Quantity>0).where(data_sparkdf.UnitPrice>0)"
   ]
  },
  {
   "cell_type": "markdown",
   "metadata": {
    "application/vnd.databricks.v1+cell": {
     "cellMetadata": {},
     "inputWidgets": {},
     "nuid": "45229aab-1eca-4883-bc6f-12b8c662d113",
     "showTitle": false,
     "title": ""
    }
   },
   "source": [
    "## 3. EDA"
   ]
  },
  {
   "cell_type": "code",
   "execution_count": 0,
   "metadata": {
    "application/vnd.databricks.v1+cell": {
     "cellMetadata": {},
     "inputWidgets": {},
     "nuid": "2f0d8378-1c18-4c0c-b3cb-de6f158108e0",
     "showTitle": false,
     "title": ""
    }
   },
   "outputs": [
    {
     "data": {
      "text/html": [
       "<style scoped>\n",
       "  .ansiout {\n",
       "    display: block;\n",
       "    unicode-bidi: embed;\n",
       "    white-space: pre-wrap;\n",
       "    word-wrap: break-word;\n",
       "    word-break: break-all;\n",
       "    font-family: \"Source Code Pro\", \"Menlo\", monospace;;\n",
       "    font-size: 13px;\n",
       "    color: #555;\n",
       "    margin-left: 4px;\n",
       "    line-height: 19px;\n",
       "  }\n",
       "</style>\n",
       "<div class=\"ansiout\"></div>"
      ]
     },
     "metadata": {
      "application/vnd.databricks.v1+output": {
       "addedWidgets": {},
       "arguments": {},
       "data": "<div class=\"ansiout\"></div>",
       "datasetInfos": [],
       "metadata": {},
       "removedWidgets": [],
       "type": "html"
      }
     },
     "output_type": "display_data"
    }
   ],
   "source": [
    "# Register as temp table\n",
    "data_sparkdf.createOrReplaceTempView(\"retail\")"
   ]
  },
  {
   "cell_type": "code",
   "execution_count": 0,
   "metadata": {
    "application/vnd.databricks.v1+cell": {
     "cellMetadata": {},
     "inputWidgets": {},
     "nuid": "7f7e6fff-028f-4cf1-aa38-125584587869",
     "showTitle": false,
     "title": ""
    }
   },
   "outputs": [
    {
     "data": {
      "text/html": [
       "<style scoped>\n",
       "  .ansiout {\n",
       "    display: block;\n",
       "    unicode-bidi: embed;\n",
       "    white-space: pre-wrap;\n",
       "    word-wrap: break-word;\n",
       "    word-break: break-all;\n",
       "    font-family: \"Source Code Pro\", \"Menlo\", monospace;;\n",
       "    font-size: 13px;\n",
       "    color: #555;\n",
       "    margin-left: 4px;\n",
       "    line-height: 19px;\n",
       "  }\n",
       "</style>\n",
       "<div class=\"ansiout\">Out[16]: </div>"
      ]
     },
     "metadata": {
      "application/vnd.databricks.v1+output": {
       "addedWidgets": {},
       "arguments": {},
       "data": "<div class=\"ansiout\">Out[16]: </div>",
       "datasetInfos": [],
       "metadata": {},
       "removedWidgets": [],
       "type": "html"
      }
     },
     "output_type": "display_data"
    },
    {
     "data": {
      "text/html": [
       "<div>\n",
       "<style scoped>\n",
       "    .dataframe tbody tr th:only-of-type {\n",
       "        vertical-align: middle;\n",
       "    }\n",
       "\n",
       "    .dataframe tbody tr th {\n",
       "        vertical-align: top;\n",
       "    }\n",
       "\n",
       "    .dataframe thead th {\n",
       "        text-align: right;\n",
       "    }\n",
       "</style>\n",
       "<table border=\"1\" class=\"dataframe\">\n",
       "  <thead>\n",
       "    <tr style=\"text-align: right;\">\n",
       "      <th></th>\n",
       "      <th>count(1)</th>\n",
       "    </tr>\n",
       "  </thead>\n",
       "  <tbody>\n",
       "    <tr>\n",
       "      <th>0</th>\n",
       "      <td>397884</td>\n",
       "    </tr>\n",
       "  </tbody>\n",
       "</table>\n",
       "</div>"
      ]
     },
     "metadata": {
      "application/vnd.databricks.v1+output": {
       "addedWidgets": {},
       "arguments": {},
       "data": "<div>\n<style scoped>\n    .dataframe tbody tr th:only-of-type {\n        vertical-align: middle;\n    }\n\n    .dataframe tbody tr th {\n        vertical-align: top;\n    }\n\n    .dataframe thead th {\n        text-align: right;\n    }\n</style>\n<table border=\"1\" class=\"dataframe\">\n  <thead>\n    <tr style=\"text-align: right;\">\n      <th></th>\n      <th>count(1)</th>\n    </tr>\n  </thead>\n  <tbody>\n    <tr>\n      <th>0</th>\n      <td>397884</td>\n    </tr>\n  </tbody>\n</table>\n</div>",
       "datasetInfos": [],
       "metadata": {},
       "removedWidgets": [],
       "textData": null,
       "type": "htmlSandbox"
      }
     },
     "output_type": "display_data"
    }
   ],
   "source": [
    "# Number of rows\n",
    "spark.sql(\"SELECT COUNT(*) FROM retail\").toPandas()"
   ]
  },
  {
   "cell_type": "code",
   "execution_count": 0,
   "metadata": {
    "application/vnd.databricks.v1+cell": {
     "cellMetadata": {},
     "inputWidgets": {},
     "nuid": "e0ae5ad5-0ed5-4652-be6c-d12246477ecb",
     "showTitle": false,
     "title": ""
    }
   },
   "outputs": [
    {
     "data": {
      "text/html": [
       "<style scoped>\n",
       "  .ansiout {\n",
       "    display: block;\n",
       "    unicode-bidi: embed;\n",
       "    white-space: pre-wrap;\n",
       "    word-wrap: break-word;\n",
       "    word-break: break-all;\n",
       "    font-family: \"Source Code Pro\", \"Menlo\", monospace;;\n",
       "    font-size: 13px;\n",
       "    color: #555;\n",
       "    margin-left: 4px;\n",
       "    line-height: 19px;\n",
       "  }\n",
       "</style>\n",
       "<div class=\"ansiout\">Out[17]: </div>"
      ]
     },
     "metadata": {
      "application/vnd.databricks.v1+output": {
       "addedWidgets": {},
       "arguments": {},
       "data": "<div class=\"ansiout\">Out[17]: </div>",
       "datasetInfos": [],
       "metadata": {},
       "removedWidgets": [],
       "type": "html"
      }
     },
     "output_type": "display_data"
    },
    {
     "data": {
      "text/html": [
       "<div>\n",
       "<style scoped>\n",
       "    .dataframe tbody tr th:only-of-type {\n",
       "        vertical-align: middle;\n",
       "    }\n",
       "\n",
       "    .dataframe tbody tr th {\n",
       "        vertical-align: top;\n",
       "    }\n",
       "\n",
       "    .dataframe thead th {\n",
       "        text-align: right;\n",
       "    }\n",
       "</style>\n",
       "<table border=\"1\" class=\"dataframe\">\n",
       "  <thead>\n",
       "    <tr style=\"text-align: right;\">\n",
       "      <th></th>\n",
       "      <th>count(DISTINCT CustomerID)</th>\n",
       "    </tr>\n",
       "  </thead>\n",
       "  <tbody>\n",
       "    <tr>\n",
       "      <th>0</th>\n",
       "      <td>4338</td>\n",
       "    </tr>\n",
       "  </tbody>\n",
       "</table>\n",
       "</div>"
      ]
     },
     "metadata": {
      "application/vnd.databricks.v1+output": {
       "addedWidgets": {},
       "arguments": {},
       "data": "<div>\n<style scoped>\n    .dataframe tbody tr th:only-of-type {\n        vertical-align: middle;\n    }\n\n    .dataframe tbody tr th {\n        vertical-align: top;\n    }\n\n    .dataframe thead th {\n        text-align: right;\n    }\n</style>\n<table border=\"1\" class=\"dataframe\">\n  <thead>\n    <tr style=\"text-align: right;\">\n      <th></th>\n      <th>count(DISTINCT CustomerID)</th>\n    </tr>\n  </thead>\n  <tbody>\n    <tr>\n      <th>0</th>\n      <td>4338</td>\n    </tr>\n  </tbody>\n</table>\n</div>",
       "datasetInfos": [],
       "metadata": {},
       "removedWidgets": [],
       "textData": null,
       "type": "htmlSandbox"
      }
     },
     "output_type": "display_data"
    }
   ],
   "source": [
    "# unique customers\n",
    "spark.sql(\"SELECT COUNT(DISTINCT(CustomerID)) FROM retail\").toPandas()"
   ]
  },
  {
   "cell_type": "code",
   "execution_count": 0,
   "metadata": {
    "application/vnd.databricks.v1+cell": {
     "cellMetadata": {},
     "inputWidgets": {},
     "nuid": "f3baa42b-f373-4daf-898e-f0cdecc0de2f",
     "showTitle": false,
     "title": ""
    }
   },
   "outputs": [
    {
     "data": {
      "text/html": [
       "<style scoped>\n",
       "  .ansiout {\n",
       "    display: block;\n",
       "    unicode-bidi: embed;\n",
       "    white-space: pre-wrap;\n",
       "    word-wrap: break-word;\n",
       "    word-break: break-all;\n",
       "    font-family: \"Source Code Pro\", \"Menlo\", monospace;;\n",
       "    font-size: 13px;\n",
       "    color: #555;\n",
       "    margin-left: 4px;\n",
       "    line-height: 19px;\n",
       "  }\n",
       "</style>\n",
       "<div class=\"ansiout\">Out[18]: </div>"
      ]
     },
     "metadata": {
      "application/vnd.databricks.v1+output": {
       "addedWidgets": {},
       "arguments": {},
       "data": "<div class=\"ansiout\">Out[18]: </div>",
       "datasetInfos": [],
       "metadata": {},
       "removedWidgets": [],
       "type": "html"
      }
     },
     "output_type": "display_data"
    },
    {
     "data": {
      "text/html": [
       "<div>\n",
       "<style scoped>\n",
       "    .dataframe tbody tr th:only-of-type {\n",
       "        vertical-align: middle;\n",
       "    }\n",
       "\n",
       "    .dataframe tbody tr th {\n",
       "        vertical-align: top;\n",
       "    }\n",
       "\n",
       "    .dataframe thead th {\n",
       "        text-align: right;\n",
       "    }\n",
       "</style>\n",
       "<table border=\"1\" class=\"dataframe\">\n",
       "  <thead>\n",
       "    <tr style=\"text-align: right;\">\n",
       "      <th></th>\n",
       "      <th>Country</th>\n",
       "      <th>purchase</th>\n",
       "    </tr>\n",
       "  </thead>\n",
       "  <tbody>\n",
       "    <tr>\n",
       "      <th>0</th>\n",
       "      <td>United Kingdom</td>\n",
       "      <td>354321</td>\n",
       "    </tr>\n",
       "    <tr>\n",
       "      <th>1</th>\n",
       "      <td>Germany</td>\n",
       "      <td>9040</td>\n",
       "    </tr>\n",
       "    <tr>\n",
       "      <th>2</th>\n",
       "      <td>France</td>\n",
       "      <td>8341</td>\n",
       "    </tr>\n",
       "    <tr>\n",
       "      <th>3</th>\n",
       "      <td>EIRE</td>\n",
       "      <td>7236</td>\n",
       "    </tr>\n",
       "    <tr>\n",
       "      <th>4</th>\n",
       "      <td>Spain</td>\n",
       "      <td>2484</td>\n",
       "    </tr>\n",
       "  </tbody>\n",
       "</table>\n",
       "</div>"
      ]
     },
     "metadata": {
      "application/vnd.databricks.v1+output": {
       "addedWidgets": {},
       "arguments": {},
       "data": "<div>\n<style scoped>\n    .dataframe tbody tr th:only-of-type {\n        vertical-align: middle;\n    }\n\n    .dataframe tbody tr th {\n        vertical-align: top;\n    }\n\n    .dataframe thead th {\n        text-align: right;\n    }\n</style>\n<table border=\"1\" class=\"dataframe\">\n  <thead>\n    <tr style=\"text-align: right;\">\n      <th></th>\n      <th>Country</th>\n      <th>purchase</th>\n    </tr>\n  </thead>\n  <tbody>\n    <tr>\n      <th>0</th>\n      <td>United Kingdom</td>\n      <td>354321</td>\n    </tr>\n    <tr>\n      <th>1</th>\n      <td>Germany</td>\n      <td>9040</td>\n    </tr>\n    <tr>\n      <th>2</th>\n      <td>France</td>\n      <td>8341</td>\n    </tr>\n    <tr>\n      <th>3</th>\n      <td>EIRE</td>\n      <td>7236</td>\n    </tr>\n    <tr>\n      <th>4</th>\n      <td>Spain</td>\n      <td>2484</td>\n    </tr>\n  </tbody>\n</table>\n</div>",
       "datasetInfos": [],
       "metadata": {},
       "removedWidgets": [],
       "textData": null,
       "type": "htmlSandbox"
      }
     },
     "output_type": "display_data"
    }
   ],
   "source": [
    "# Country-wise purchase\n",
    "spark.sql(\"SELECT Country,COUNT(*) purchase FROM retail GROUP BY Country ORDER BY purchase DESC \").toPandas().head(5)"
   ]
  },
  {
   "cell_type": "code",
   "execution_count": 0,
   "metadata": {
    "application/vnd.databricks.v1+cell": {
     "cellMetadata": {},
     "inputWidgets": {},
     "nuid": "84578cc3-9e05-4af8-b0df-702b0bcedc12",
     "showTitle": false,
     "title": ""
    }
   },
   "outputs": [
    {
     "data": {
      "text/html": [
       "<style scoped>\n",
       "  .ansiout {\n",
       "    display: block;\n",
       "    unicode-bidi: embed;\n",
       "    white-space: pre-wrap;\n",
       "    word-wrap: break-word;\n",
       "    word-break: break-all;\n",
       "    font-family: \"Source Code Pro\", \"Menlo\", monospace;;\n",
       "    font-size: 13px;\n",
       "    color: #555;\n",
       "    margin-left: 4px;\n",
       "    line-height: 19px;\n",
       "  }\n",
       "</style>\n",
       "<div class=\"ansiout\">Out[19]: </div>"
      ]
     },
     "metadata": {
      "application/vnd.databricks.v1+output": {
       "addedWidgets": {},
       "arguments": {},
       "data": "<div class=\"ansiout\">Out[19]: </div>",
       "datasetInfos": [],
       "metadata": {},
       "removedWidgets": [],
       "type": "html"
      }
     },
     "output_type": "display_data"
    },
    {
     "data": {
      "text/html": [
       "<div>\n",
       "<style scoped>\n",
       "    .dataframe tbody tr th:only-of-type {\n",
       "        vertical-align: middle;\n",
       "    }\n",
       "\n",
       "    .dataframe tbody tr th {\n",
       "        vertical-align: top;\n",
       "    }\n",
       "\n",
       "    .dataframe thead th {\n",
       "        text-align: right;\n",
       "    }\n",
       "</style>\n",
       "<table border=\"1\" class=\"dataframe\">\n",
       "  <thead>\n",
       "    <tr style=\"text-align: right;\">\n",
       "      <th></th>\n",
       "      <th>earliest</th>\n",
       "      <th>recent</th>\n",
       "    </tr>\n",
       "  </thead>\n",
       "  <tbody>\n",
       "    <tr>\n",
       "      <th>0</th>\n",
       "      <td>2010-12-01 08:26:00</td>\n",
       "      <td>2011-12-09 12:50:00</td>\n",
       "    </tr>\n",
       "  </tbody>\n",
       "</table>\n",
       "</div>"
      ]
     },
     "metadata": {
      "application/vnd.databricks.v1+output": {
       "addedWidgets": {},
       "arguments": {},
       "data": "<div>\n<style scoped>\n    .dataframe tbody tr th:only-of-type {\n        vertical-align: middle;\n    }\n\n    .dataframe tbody tr th {\n        vertical-align: top;\n    }\n\n    .dataframe thead th {\n        text-align: right;\n    }\n</style>\n<table border=\"1\" class=\"dataframe\">\n  <thead>\n    <tr style=\"text-align: right;\">\n      <th></th>\n      <th>earliest</th>\n      <th>recent</th>\n    </tr>\n  </thead>\n  <tbody>\n    <tr>\n      <th>0</th>\n      <td>2010-12-01 08:26:00</td>\n      <td>2011-12-09 12:50:00</td>\n    </tr>\n  </tbody>\n</table>\n</div>",
       "datasetInfos": [],
       "metadata": {},
       "removedWidgets": [],
       "textData": null,
       "type": "htmlSandbox"
      }
     },
     "output_type": "display_data"
    }
   ],
   "source": [
    "# Most earliest & recent purchase date\n",
    "spark.sql(\"SELECT MIN(date) earliest,MAX(date) recent FROM retail\").toPandas().head(5)"
   ]
  },
  {
   "cell_type": "markdown",
   "metadata": {
    "application/vnd.databricks.v1+cell": {
     "cellMetadata": {},
     "inputWidgets": {},
     "nuid": "a9e3267e-ac83-4422-983b-85b636adfa48",
     "showTitle": false,
     "title": ""
    }
   },
   "source": [
    "## 4. Data Pre-processing\n",
    "\n",
    "The variables in this dataset are in a format that cannot be easily ingested into the customer segmentation model. These features individually do not tell us much about customer purchase behavior.\n",
    "\n",
    "Due to this, we will use the existing variables to derive three new informative features - recency, frequency, and monetary value (RFM).\n",
    "\n",
    "RFM is commonly used in marketing to evaluate a client’s value based on their:\n",
    "\n",
    "- Recency: How recently has each customer made a purchase?\n",
    "- Frequency: How often have they bought something?\n",
    "- Monetary Value: How much money do they spend on average when making purchases?"
   ]
  },
  {
   "cell_type": "markdown",
   "metadata": {
    "application/vnd.databricks.v1+cell": {
     "cellMetadata": {},
     "inputWidgets": {},
     "nuid": "0345fdff-b64e-4700-a135-14444ae587fc",
     "showTitle": false,
     "title": ""
    }
   },
   "source": [
    "### 4.1 Recency"
   ]
  },
  {
   "cell_type": "code",
   "execution_count": 0,
   "metadata": {
    "application/vnd.databricks.v1+cell": {
     "cellMetadata": {},
     "inputWidgets": {},
     "nuid": "449441f2-4c83-4944-93a6-76e5e7382f65",
     "showTitle": false,
     "title": ""
    }
   },
   "outputs": [
    {
     "data": {
      "text/html": [
       "<style scoped>\n",
       "  .ansiout {\n",
       "    display: block;\n",
       "    unicode-bidi: embed;\n",
       "    white-space: pre-wrap;\n",
       "    word-wrap: break-word;\n",
       "    word-break: break-all;\n",
       "    font-family: \"Source Code Pro\", \"Menlo\", monospace;;\n",
       "    font-size: 13px;\n",
       "    color: #555;\n",
       "    margin-left: 4px;\n",
       "    line-height: 19px;\n",
       "  }\n",
       "</style>\n",
       "<div class=\"ansiout\">  InvoiceNo StockCode  ...                date           from_date\n",
       "0    581587     22631  ... 2011-12-09 12:50:00 2011-12-09 12:50:00\n",
       "1    581587     22556  ... 2011-12-09 12:50:00 2011-12-09 12:50:00\n",
       "2    581587     22555  ... 2011-12-09 12:50:00 2011-12-09 12:50:00\n",
       "3    581587     22728  ... 2011-12-09 12:50:00 2011-12-09 12:50:00\n",
       "4    581587     22727  ... 2011-12-09 12:50:00 2011-12-09 12:50:00\n",
       "\n",
       "[5 rows x 10 columns]\n",
       "</div>"
      ]
     },
     "metadata": {
      "application/vnd.databricks.v1+output": {
       "addedWidgets": {},
       "arguments": {},
       "data": "<div class=\"ansiout\">  InvoiceNo StockCode  ...                date           from_date\n0    581587     22631  ... 2011-12-09 12:50:00 2011-12-09 12:50:00\n1    581587     22556  ... 2011-12-09 12:50:00 2011-12-09 12:50:00\n2    581587     22555  ... 2011-12-09 12:50:00 2011-12-09 12:50:00\n3    581587     22728  ... 2011-12-09 12:50:00 2011-12-09 12:50:00\n4    581587     22727  ... 2011-12-09 12:50:00 2011-12-09 12:50:00\n\n[5 rows x 10 columns]\n</div>",
       "datasetInfos": [],
       "metadata": {},
       "removedWidgets": [],
       "type": "html"
      }
     },
     "output_type": "display_data"
    }
   ],
   "source": [
    "# Create most recent date column\n",
    "print(spark.sql(\"SELECT *,MAX(date) OVER(ORDER BY date DESC) from_date FROM retail\").toPandas().head(5))\n",
    "data_sparkdf = spark.sql(\"SELECT *,MAX(date) OVER(ORDER BY date DESC) from_date FROM retail\")"
   ]
  },
  {
   "cell_type": "code",
   "execution_count": 0,
   "metadata": {
    "application/vnd.databricks.v1+cell": {
     "cellMetadata": {},
     "inputWidgets": {},
     "nuid": "17ce2e2b-0cde-4fc1-8dca-45baa6b5aaa7",
     "showTitle": false,
     "title": ""
    }
   },
   "outputs": [
    {
     "data": {
      "text/html": [
       "<style scoped>\n",
       "  .ansiout {\n",
       "    display: block;\n",
       "    unicode-bidi: embed;\n",
       "    white-space: pre-wrap;\n",
       "    word-wrap: break-word;\n",
       "    word-break: break-all;\n",
       "    font-family: \"Source Code Pro\", \"Menlo\", monospace;;\n",
       "    font-size: 13px;\n",
       "    color: #555;\n",
       "    margin-left: 4px;\n",
       "    line-height: 19px;\n",
       "  }\n",
       "</style>\n",
       "<div class=\"ansiout\">+---------+---------+--------------------+--------+---------------+---------+----------+-------+-------------------+-------------------+------------+\n",
       "InvoiceNo|StockCode|         Description|Quantity|    InvoiceDate|UnitPrice|CustomerID|Country|               date|          from_date|recency_days|\n",
       "+---------+---------+--------------------+--------+---------------+---------+----------+-------+-------------------+-------------------+------------+\n",
       "   581587|    22631|CIRCUS PARADE LUN...|      12|12/9/2011 12:50|     1.95|     12680| France|2011-12-09 12:50:00|2011-12-09 12:50:00|           1|\n",
       "   581587|    22556|PLASTERS IN TIN C...|      12|12/9/2011 12:50|     1.65|     12680| France|2011-12-09 12:50:00|2011-12-09 12:50:00|           1|\n",
       "+---------+---------+--------------------+--------+---------------+---------+----------+-------+-------------------+-------------------+------------+\n",
       "only showing top 2 rows\n",
       "\n",
       "</div>"
      ]
     },
     "metadata": {
      "application/vnd.databricks.v1+output": {
       "addedWidgets": {},
       "arguments": {},
       "data": "<div class=\"ansiout\">+---------+---------+--------------------+--------+---------------+---------+----------+-------+-------------------+-------------------+------------+\n|InvoiceNo|StockCode|         Description|Quantity|    InvoiceDate|UnitPrice|CustomerID|Country|               date|          from_date|recency_days|\n+---------+---------+--------------------+--------+---------------+---------+----------+-------+-------------------+-------------------+------------+\n|   581587|    22631|CIRCUS PARADE LUN...|      12|12/9/2011 12:50|     1.95|     12680| France|2011-12-09 12:50:00|2011-12-09 12:50:00|           1|\n|   581587|    22556|PLASTERS IN TIN C...|      12|12/9/2011 12:50|     1.65|     12680| France|2011-12-09 12:50:00|2011-12-09 12:50:00|           1|\n+---------+---------+--------------------+--------+---------------+---------+----------+-------+-------------------+-------------------+------------+\nonly showing top 2 rows\n\n</div>",
       "datasetInfos": [],
       "metadata": {},
       "removedWidgets": [],
       "type": "html"
      }
     },
     "output_type": "display_data"
    }
   ],
   "source": [
    "# Calculate the recency score\n",
    "data_sparkdf = data_sparkdf.withColumn('recency_days',datediff(col(\"from_date\"),col(\"date\"))+1)\n",
    "data_sparkdf.show(2)"
   ]
  },
  {
   "cell_type": "code",
   "execution_count": 0,
   "metadata": {
    "application/vnd.databricks.v1+cell": {
     "cellMetadata": {},
     "inputWidgets": {},
     "nuid": "795427bd-7636-4cc1-8458-a08e680eb5b2",
     "showTitle": false,
     "title": ""
    }
   },
   "outputs": [
    {
     "data": {
      "text/html": [
       "<style scoped>\n",
       "  .ansiout {\n",
       "    display: block;\n",
       "    unicode-bidi: embed;\n",
       "    white-space: pre-wrap;\n",
       "    word-wrap: break-word;\n",
       "    word-break: break-all;\n",
       "    font-family: \"Source Code Pro\", \"Menlo\", monospace;;\n",
       "    font-size: 13px;\n",
       "    color: #555;\n",
       "    margin-left: 4px;\n",
       "    line-height: 19px;\n",
       "  }\n",
       "</style>\n",
       "<div class=\"ansiout\">+----------+---------+---------+--------------------+--------+---------------+---------+-------+-------------------+-------------------+------------+-------+\n",
       "CustomerID|InvoiceNo|StockCode|         Description|Quantity|    InvoiceDate|UnitPrice|Country|               date|          from_date|recency_days|recency|\n",
       "+----------+---------+---------+--------------------+--------+---------------+---------+-------+-------------------+-------------------+------------+-------+\n",
       "     12680|   581587|    22631|CIRCUS PARADE LUN...|      12|12/9/2011 12:50|     1.95| France|2011-12-09 12:50:00|2011-12-09 12:50:00|           1|      1|\n",
       "     12680|   581587|    22556|PLASTERS IN TIN C...|      12|12/9/2011 12:50|     1.65| France|2011-12-09 12:50:00|2011-12-09 12:50:00|           1|      1|\n",
       "+----------+---------+---------+--------------------+--------+---------------+---------+-------+-------------------+-------------------+------------+-------+\n",
       "only showing top 2 rows\n",
       "\n",
       "</div>"
      ]
     },
     "metadata": {
      "application/vnd.databricks.v1+output": {
       "addedWidgets": {},
       "arguments": {},
       "data": "<div class=\"ansiout\">+----------+---------+---------+--------------------+--------+---------------+---------+-------+-------------------+-------------------+------------+-------+\n|CustomerID|InvoiceNo|StockCode|         Description|Quantity|    InvoiceDate|UnitPrice|Country|               date|          from_date|recency_days|recency|\n+----------+---------+---------+--------------------+--------+---------------+---------+-------+-------------------+-------------------+------------+-------+\n|     12680|   581587|    22631|CIRCUS PARADE LUN...|      12|12/9/2011 12:50|     1.95| France|2011-12-09 12:50:00|2011-12-09 12:50:00|           1|      1|\n|     12680|   581587|    22556|PLASTERS IN TIN C...|      12|12/9/2011 12:50|     1.65| France|2011-12-09 12:50:00|2011-12-09 12:50:00|           1|      1|\n+----------+---------+---------+--------------------+--------+---------------+---------+-------+-------------------+-------------------+------------+-------+\nonly showing top 2 rows\n\n</div>",
       "datasetInfos": [],
       "metadata": {},
       "removedWidgets": [],
       "type": "html"
      }
     },
     "output_type": "display_data"
    }
   ],
   "source": [
    "# Calculate most recent purchase by customer\n",
    "data_sparkdf = data_sparkdf.join(data_sparkdf.groupby('CustomerID').agg(min('recency_days').alias('recency')),on='CustomerID',how='left')\n",
    "\n",
    "data_sparkdf.show(2)"
   ]
  },
  {
   "cell_type": "markdown",
   "metadata": {
    "application/vnd.databricks.v1+cell": {
     "cellMetadata": {},
     "inputWidgets": {},
     "nuid": "5314f438-6c2f-42b2-9c4b-19beea4f3b04",
     "showTitle": false,
     "title": ""
    }
   },
   "source": [
    "### 4.2 Frequency"
   ]
  },
  {
   "cell_type": "code",
   "execution_count": 0,
   "metadata": {
    "application/vnd.databricks.v1+cell": {
     "cellMetadata": {},
     "inputWidgets": {},
     "nuid": "6d2712e6-0560-45f4-a2ba-9eaca7fb15ce",
     "showTitle": false,
     "title": ""
    }
   },
   "outputs": [
    {
     "data": {
      "text/html": [
       "<style scoped>\n",
       "  .ansiout {\n",
       "    display: block;\n",
       "    unicode-bidi: embed;\n",
       "    white-space: pre-wrap;\n",
       "    word-wrap: break-word;\n",
       "    word-break: break-all;\n",
       "    font-family: \"Source Code Pro\", \"Menlo\", monospace;;\n",
       "    font-size: 13px;\n",
       "    color: #555;\n",
       "    margin-left: 4px;\n",
       "    line-height: 19px;\n",
       "  }\n",
       "</style>\n",
       "<div class=\"ansiout\"></div>"
      ]
     },
     "metadata": {
      "application/vnd.databricks.v1+output": {
       "addedWidgets": {},
       "arguments": {},
       "data": "<div class=\"ansiout\"></div>",
       "datasetInfos": [],
       "metadata": {},
       "removedWidgets": [],
       "type": "html"
      }
     },
     "output_type": "display_data"
    }
   ],
   "source": [
    "data_sparkdf = data_sparkdf.join(data_sparkdf.groupby('CustomerID').agg(count('InvoiceNo').alias('frequency')),on='CustomerID',how='inner')"
   ]
  },
  {
   "cell_type": "code",
   "execution_count": 0,
   "metadata": {
    "application/vnd.databricks.v1+cell": {
     "cellMetadata": {},
     "inputWidgets": {},
     "nuid": "3081d2ef-2916-4c72-a37f-74746b1b944c",
     "showTitle": false,
     "title": ""
    }
   },
   "outputs": [
    {
     "data": {
      "text/html": [
       "<style scoped>\n",
       "  .ansiout {\n",
       "    display: block;\n",
       "    unicode-bidi: embed;\n",
       "    white-space: pre-wrap;\n",
       "    word-wrap: break-word;\n",
       "    word-break: break-all;\n",
       "    font-family: \"Source Code Pro\", \"Menlo\", monospace;;\n",
       "    font-size: 13px;\n",
       "    color: #555;\n",
       "    margin-left: 4px;\n",
       "    line-height: 19px;\n",
       "  }\n",
       "</style>\n",
       "<div class=\"ansiout\">+----------+---------+---------+--------------------+--------+--------------+---------+---------+-------------------+-------------------+------------+-------+---------+\n",
       "CustomerID|InvoiceNo|StockCode|         Description|Quantity|   InvoiceDate|UnitPrice|  Country|               date|          from_date|recency_days|recency|frequency|\n",
       "+----------+---------+---------+--------------------+--------+--------------+---------+---------+-------------------+-------------------+------------+-------+---------+\n",
       "     12386|   540280|    21422|PORCELAIN ROSE SMALL|      80|1/6/2011 12:37|     0.85|Australia|2011-01-06 12:37:00|2011-12-09 12:50:00|         338|    338|       10|\n",
       "     12386|   540280|    21421|PORCELAIN ROSE LA...|      60|1/6/2011 12:37|     1.25|Australia|2011-01-06 12:37:00|2011-12-09 12:50:00|         338|    338|       10|\n",
       "+----------+---------+---------+--------------------+--------+--------------+---------+---------+-------------------+-------------------+------------+-------+---------+\n",
       "only showing top 2 rows\n",
       "\n",
       "</div>"
      ]
     },
     "metadata": {
      "application/vnd.databricks.v1+output": {
       "addedWidgets": {},
       "arguments": {},
       "data": "<div class=\"ansiout\">+----------+---------+---------+--------------------+--------+--------------+---------+---------+-------------------+-------------------+------------+-------+---------+\n|CustomerID|InvoiceNo|StockCode|         Description|Quantity|   InvoiceDate|UnitPrice|  Country|               date|          from_date|recency_days|recency|frequency|\n+----------+---------+---------+--------------------+--------+--------------+---------+---------+-------------------+-------------------+------------+-------+---------+\n|     12386|   540280|    21422|PORCELAIN ROSE SMALL|      80|1/6/2011 12:37|     0.85|Australia|2011-01-06 12:37:00|2011-12-09 12:50:00|         338|    338|       10|\n|     12386|   540280|    21421|PORCELAIN ROSE LA...|      60|1/6/2011 12:37|     1.25|Australia|2011-01-06 12:37:00|2011-12-09 12:50:00|         338|    338|       10|\n+----------+---------+---------+--------------------+--------+--------------+---------+---------+-------------------+-------------------+------------+-------+---------+\nonly showing top 2 rows\n\n</div>",
       "datasetInfos": [],
       "metadata": {},
       "removedWidgets": [],
       "type": "html"
      }
     },
     "output_type": "display_data"
    }
   ],
   "source": [
    "data_sparkdf.show(2)"
   ]
  },
  {
   "cell_type": "markdown",
   "metadata": {
    "application/vnd.databricks.v1+cell": {
     "cellMetadata": {},
     "inputWidgets": {},
     "nuid": "1e7403d8-8480-44db-9aa7-0ef93b2a0f7a",
     "showTitle": false,
     "title": ""
    }
   },
   "source": [
    "### 4.3 Monetary Value"
   ]
  },
  {
   "cell_type": "code",
   "execution_count": 0,
   "metadata": {
    "application/vnd.databricks.v1+cell": {
     "cellMetadata": {},
     "inputWidgets": {},
     "nuid": "661d9f5b-1d70-4883-a82f-eddc96225051",
     "showTitle": false,
     "title": ""
    }
   },
   "outputs": [
    {
     "data": {
      "text/html": [
       "<style scoped>\n",
       "  .ansiout {\n",
       "    display: block;\n",
       "    unicode-bidi: embed;\n",
       "    white-space: pre-wrap;\n",
       "    word-wrap: break-word;\n",
       "    word-break: break-all;\n",
       "    font-family: \"Source Code Pro\", \"Menlo\", monospace;;\n",
       "    font-size: 13px;\n",
       "    color: #555;\n",
       "    margin-left: 4px;\n",
       "    line-height: 19px;\n",
       "  }\n",
       "</style>\n",
       "<div class=\"ansiout\"></div>"
      ]
     },
     "metadata": {
      "application/vnd.databricks.v1+output": {
       "addedWidgets": {},
       "arguments": {},
       "data": "<div class=\"ansiout\"></div>",
       "datasetInfos": [],
       "metadata": {},
       "removedWidgets": [],
       "type": "html"
      }
     },
     "output_type": "display_data"
    }
   ],
   "source": [
    "# Calculat total amount spent by each customer in one purchase\n",
    "data_sparkdf = data_sparkdf.withColumn('TotalValue',col('UnitPrice')*col('Quantity'))"
   ]
  },
  {
   "cell_type": "code",
   "execution_count": 0,
   "metadata": {
    "application/vnd.databricks.v1+cell": {
     "cellMetadata": {},
     "inputWidgets": {},
     "nuid": "cdbeef3c-dd00-461f-a23f-e2578768c6dc",
     "showTitle": false,
     "title": ""
    }
   },
   "outputs": [
    {
     "data": {
      "text/html": [
       "<style scoped>\n",
       "  .ansiout {\n",
       "    display: block;\n",
       "    unicode-bidi: embed;\n",
       "    white-space: pre-wrap;\n",
       "    word-wrap: break-word;\n",
       "    word-break: break-all;\n",
       "    font-family: \"Source Code Pro\", \"Menlo\", monospace;;\n",
       "    font-size: 13px;\n",
       "    color: #555;\n",
       "    margin-left: 4px;\n",
       "    line-height: 19px;\n",
       "  }\n",
       "</style>\n",
       "<div class=\"ansiout\"></div>"
      ]
     },
     "metadata": {
      "application/vnd.databricks.v1+output": {
       "addedWidgets": {},
       "arguments": {},
       "data": "<div class=\"ansiout\"></div>",
       "datasetInfos": [],
       "metadata": {},
       "removedWidgets": [],
       "type": "html"
      }
     },
     "output_type": "display_data"
    }
   ],
   "source": [
    "data_sparkdf = data_sparkdf.join(data_sparkdf.groupBy('CustomerID').agg(sum('TotalValue').alias('monetary_value')),on='CustomerID',how='inner')"
   ]
  },
  {
   "cell_type": "code",
   "execution_count": 0,
   "metadata": {
    "application/vnd.databricks.v1+cell": {
     "cellMetadata": {},
     "inputWidgets": {},
     "nuid": "de5d0ae7-a80a-493c-8492-c840311169a0",
     "showTitle": false,
     "title": ""
    }
   },
   "outputs": [
    {
     "data": {
      "text/html": [
       "<style scoped>\n",
       "  .ansiout {\n",
       "    display: block;\n",
       "    unicode-bidi: embed;\n",
       "    white-space: pre-wrap;\n",
       "    word-wrap: break-word;\n",
       "    word-break: break-all;\n",
       "    font-family: \"Source Code Pro\", \"Menlo\", monospace;;\n",
       "    font-size: 13px;\n",
       "    color: #555;\n",
       "    margin-left: 4px;\n",
       "    line-height: 19px;\n",
       "  }\n",
       "</style>\n",
       "<div class=\"ansiout\">+----------+---------+---------+--------------------+--------+--------------+---------+---------+-------------------+-------------------+------------+-------+---------+----------+-----------------+\n",
       "CustomerID|InvoiceNo|StockCode|         Description|Quantity|   InvoiceDate|UnitPrice|  Country|               date|          from_date|recency_days|recency|frequency|TotalValue|   monetary_value|\n",
       "+----------+---------+---------+--------------------+--------+--------------+---------+---------+-------------------+-------------------+------------+-------+---------+----------+-----------------+\n",
       "     12386|   540280|    21422|PORCELAIN ROSE SMALL|      80|1/6/2011 12:37|     0.85|Australia|2011-01-06 12:37:00|2011-12-09 12:50:00|         338|    338|       10|      68.0|401.8999938964844|\n",
       "     12386|   540280|    21421|PORCELAIN ROSE LA...|      60|1/6/2011 12:37|     1.25|Australia|2011-01-06 12:37:00|2011-12-09 12:50:00|         338|    338|       10|      75.0|401.8999938964844|\n",
       "+----------+---------+---------+--------------------+--------+--------------+---------+---------+-------------------+-------------------+------------+-------+---------+----------+-----------------+\n",
       "only showing top 2 rows\n",
       "\n",
       "</div>"
      ]
     },
     "metadata": {
      "application/vnd.databricks.v1+output": {
       "addedWidgets": {},
       "arguments": {},
       "data": "<div class=\"ansiout\">+----------+---------+---------+--------------------+--------+--------------+---------+---------+-------------------+-------------------+------------+-------+---------+----------+-----------------+\n|CustomerID|InvoiceNo|StockCode|         Description|Quantity|   InvoiceDate|UnitPrice|  Country|               date|          from_date|recency_days|recency|frequency|TotalValue|   monetary_value|\n+----------+---------+---------+--------------------+--------+--------------+---------+---------+-------------------+-------------------+------------+-------+---------+----------+-----------------+\n|     12386|   540280|    21422|PORCELAIN ROSE SMALL|      80|1/6/2011 12:37|     0.85|Australia|2011-01-06 12:37:00|2011-12-09 12:50:00|         338|    338|       10|      68.0|401.8999938964844|\n|     12386|   540280|    21421|PORCELAIN ROSE LA...|      60|1/6/2011 12:37|     1.25|Australia|2011-01-06 12:37:00|2011-12-09 12:50:00|         338|    338|       10|      75.0|401.8999938964844|\n+----------+---------+---------+--------------------+--------+--------------+---------+---------+-------------------+-------------------+------------+-------+---------+----------+-----------------+\nonly showing top 2 rows\n\n</div>",
       "datasetInfos": [],
       "metadata": {},
       "removedWidgets": [],
       "type": "html"
      }
     },
     "output_type": "display_data"
    }
   ],
   "source": [
    "data_sparkdf.show(2)"
   ]
  },
  {
   "cell_type": "markdown",
   "metadata": {
    "application/vnd.databricks.v1+cell": {
     "cellMetadata": {},
     "inputWidgets": {},
     "nuid": "ecb4fcd4-3820-484f-b897-d4cdde774ece",
     "showTitle": false,
     "title": ""
    }
   },
   "source": [
    "### 4.4 Final Features"
   ]
  },
  {
   "cell_type": "code",
   "execution_count": 0,
   "metadata": {
    "application/vnd.databricks.v1+cell": {
     "cellMetadata": {},
     "inputWidgets": {},
     "nuid": "9094f70d-acf4-462a-9350-a20de1a5d05e",
     "showTitle": false,
     "title": ""
    }
   },
   "outputs": [
    {
     "data": {
      "text/html": [
       "<style scoped>\n",
       "  .ansiout {\n",
       "    display: block;\n",
       "    unicode-bidi: embed;\n",
       "    white-space: pre-wrap;\n",
       "    word-wrap: break-word;\n",
       "    word-break: break-all;\n",
       "    font-family: \"Source Code Pro\", \"Menlo\", monospace;;\n",
       "    font-size: 13px;\n",
       "    color: #555;\n",
       "    margin-left: 4px;\n",
       "    line-height: 19px;\n",
       "  }\n",
       "</style>\n",
       "<div class=\"ansiout\">Out[29]: 4338</div>"
      ]
     },
     "metadata": {
      "application/vnd.databricks.v1+output": {
       "addedWidgets": {},
       "arguments": {},
       "data": "<div class=\"ansiout\">Out[29]: 4338</div>",
       "datasetInfos": [],
       "metadata": {},
       "removedWidgets": [],
       "type": "html"
      }
     },
     "output_type": "display_data"
    }
   ],
   "source": [
    "final_data_sparkdf = data_sparkdf.select(['recency','frequency','monetary_value','CustomerID']).distinct()\n",
    "final_data_sparkdf.count()"
   ]
  },
  {
   "cell_type": "code",
   "execution_count": 0,
   "metadata": {
    "application/vnd.databricks.v1+cell": {
     "cellMetadata": {},
     "inputWidgets": {},
     "nuid": "1769c005-ef48-43a1-b315-c89e22559365",
     "showTitle": false,
     "title": ""
    }
   },
   "outputs": [
    {
     "data": {
      "text/html": [
       "<style scoped>\n",
       "  .ansiout {\n",
       "    display: block;\n",
       "    unicode-bidi: embed;\n",
       "    white-space: pre-wrap;\n",
       "    word-wrap: break-word;\n",
       "    word-break: break-all;\n",
       "    font-family: \"Source Code Pro\", \"Menlo\", monospace;;\n",
       "    font-size: 13px;\n",
       "    color: #555;\n",
       "    margin-left: 4px;\n",
       "    line-height: 19px;\n",
       "  }\n",
       "</style>\n",
       "<div class=\"ansiout\">+-------+---------+------------------+----------+\n",
       "recency|frequency|    monetary_value|CustomerID|\n",
       "+-------+---------+------------------+----------+\n",
       "    326|        1|       77183.59375|     12346|\n",
       "      3|      182| 4310.000016212463|     12347|\n",
       "     76|       31|1797.2399997711182|     12348|\n",
       "     19|       73|1757.5499963760376|     12349|\n",
       "+-------+---------+------------------+----------+\n",
       "only showing top 4 rows\n",
       "\n",
       "</div>"
      ]
     },
     "metadata": {
      "application/vnd.databricks.v1+output": {
       "addedWidgets": {},
       "arguments": {},
       "data": "<div class=\"ansiout\">+-------+---------+------------------+----------+\n|recency|frequency|    monetary_value|CustomerID|\n+-------+---------+------------------+----------+\n|    326|        1|       77183.59375|     12346|\n|      3|      182| 4310.000016212463|     12347|\n|     76|       31|1797.2399997711182|     12348|\n|     19|       73|1757.5499963760376|     12349|\n+-------+---------+------------------+----------+\nonly showing top 4 rows\n\n</div>",
       "datasetInfos": [],
       "metadata": {},
       "removedWidgets": [],
       "type": "html"
      }
     },
     "output_type": "display_data"
    }
   ],
   "source": [
    "final_data_sparkdf.show(4)"
   ]
  },
  {
   "cell_type": "markdown",
   "metadata": {
    "application/vnd.databricks.v1+cell": {
     "cellMetadata": {},
     "inputWidgets": {},
     "nuid": "93b59b7d-9356-4477-9099-b607f8cca340",
     "showTitle": false,
     "title": ""
    }
   },
   "source": [
    "### 4.5 Standardise Data"
   ]
  },
  {
   "cell_type": "code",
   "execution_count": 0,
   "metadata": {
    "application/vnd.databricks.v1+cell": {
     "cellMetadata": {},
     "inputWidgets": {},
     "nuid": "d05f1b9e-1fbb-4e3a-9919-05fa37d4b6ac",
     "showTitle": false,
     "title": ""
    }
   },
   "outputs": [
    {
     "data": {
      "text/html": [
       "<style scoped>\n",
       "  .ansiout {\n",
       "    display: block;\n",
       "    unicode-bidi: embed;\n",
       "    white-space: pre-wrap;\n",
       "    word-wrap: break-word;\n",
       "    word-break: break-all;\n",
       "    font-family: \"Source Code Pro\", \"Menlo\", monospace;;\n",
       "    font-size: 13px;\n",
       "    color: #555;\n",
       "    margin-left: 4px;\n",
       "    line-height: 19px;\n",
       "  }\n",
       "</style>\n",
       "<div class=\"ansiout\"></div>"
      ]
     },
     "metadata": {
      "application/vnd.databricks.v1+output": {
       "addedWidgets": {},
       "arguments": {},
       "data": "<div class=\"ansiout\"></div>",
       "datasetInfos": [],
       "metadata": {},
       "removedWidgets": [],
       "type": "html"
      }
     },
     "output_type": "display_data"
    }
   ],
   "source": [
    "# Assemble features in a single columns\n",
    "assemble=VectorAssembler(inputCols=['recency','frequency','monetary_value'], outputCol='assembled_features', handleInvalid=\"skip\")\n",
    "assembled_data_sparkdf =assemble.transform(final_data_sparkdf)"
   ]
  },
  {
   "cell_type": "code",
   "execution_count": 0,
   "metadata": {
    "application/vnd.databricks.v1+cell": {
     "cellMetadata": {},
     "inputWidgets": {},
     "nuid": "9b8f0719-61b0-4bec-bae5-295913d01408",
     "showTitle": false,
     "title": ""
    }
   },
   "outputs": [
    {
     "data": {
      "text/html": [
       "<style scoped>\n",
       "  .ansiout {\n",
       "    display: block;\n",
       "    unicode-bidi: embed;\n",
       "    white-space: pre-wrap;\n",
       "    word-wrap: break-word;\n",
       "    word-break: break-all;\n",
       "    font-family: \"Source Code Pro\", \"Menlo\", monospace;;\n",
       "    font-size: 13px;\n",
       "    color: #555;\n",
       "    margin-left: 4px;\n",
       "    line-height: 19px;\n",
       "  }\n",
       "</style>\n",
       "<div class=\"ansiout\"></div>"
      ]
     },
     "metadata": {
      "application/vnd.databricks.v1+output": {
       "addedWidgets": {},
       "arguments": {},
       "data": "<div class=\"ansiout\"></div>",
       "datasetInfos": [],
       "metadata": {},
       "removedWidgets": [],
       "type": "html"
      }
     },
     "output_type": "display_data"
    }
   ],
   "source": [
    "# Standardise features\n",
    "scale=StandardScaler(inputCol='assembled_features',outputCol='features')\n",
    "data_scale=scale.fit(assembled_data_sparkdf)\n",
    "scaled_data_sparkdf =data_scale.transform(assembled_data_sparkdf)\n"
   ]
  },
  {
   "cell_type": "markdown",
   "metadata": {
    "application/vnd.databricks.v1+cell": {
     "cellMetadata": {},
     "inputWidgets": {},
     "nuid": "da8483f5-01f8-48ca-8202-39de2cddf1c7",
     "showTitle": false,
     "title": ""
    }
   },
   "source": [
    "## 5. Build K-means model"
   ]
  },
  {
   "cell_type": "markdown",
   "metadata": {
    "application/vnd.databricks.v1+cell": {
     "cellMetadata": {},
     "inputWidgets": {},
     "nuid": "a2ab3f33-5b6e-4ccc-bf33-4401dbe34055",
     "showTitle": false,
     "title": ""
    }
   },
   "source": [
    "### 5.1 Finding number of clusters"
   ]
  },
  {
   "cell_type": "code",
   "execution_count": 0,
   "metadata": {
    "application/vnd.databricks.v1+cell": {
     "cellMetadata": {},
     "inputWidgets": {},
     "nuid": "4f675b4f-3e92-4cbd-af79-94fd33d9b0fd",
     "showTitle": false,
     "title": ""
    }
   },
   "outputs": [
    {
     "data": {
      "text/html": [
       "<style scoped>\n",
       "  .ansiout {\n",
       "    display: block;\n",
       "    unicode-bidi: embed;\n",
       "    white-space: pre-wrap;\n",
       "    word-wrap: break-word;\n",
       "    word-break: break-all;\n",
       "    font-family: \"Source Code Pro\", \"Menlo\", monospace;;\n",
       "    font-size: 13px;\n",
       "    color: #555;\n",
       "    margin-left: 4px;\n",
       "    line-height: 19px;\n",
       "  }\n",
       "</style>\n",
       "<div class=\"ansiout\">2\n",
       "3\n",
       "4\n",
       "5\n",
       "6\n",
       "7\n",
       "8\n",
       "9\n",
       "</div>"
      ]
     },
     "metadata": {
      "application/vnd.databricks.v1+output": {
       "addedWidgets": {},
       "arguments": {},
       "data": "<div class=\"ansiout\">2\n3\n4\n5\n6\n7\n8\n9\n</div>",
       "datasetInfos": [],
       "metadata": {},
       "removedWidgets": [],
       "type": "html"
      }
     },
     "output_type": "display_data"
    }
   ],
   "source": [
    "# Find optimum number of clusters\n",
    "cost ={}\n",
    "\n",
    "for i in range(2,10):\n",
    "    KMeans_algo=KMeans(featuresCol='features',k=i)\n",
    "    KMeans_fit=KMeans_algo.fit(scaled_data_sparkdf)\n",
    "    output=KMeans_fit.transform(scaled_data_sparkdf)\n",
    "    cost[i] = KMeans_fit.summary.trainingCost\n",
    "    print(i)\n"
   ]
  },
  {
   "cell_type": "code",
   "execution_count": 0,
   "metadata": {
    "application/vnd.databricks.v1+cell": {
     "cellMetadata": {},
     "inputWidgets": {},
     "nuid": "66c0534b-2872-4e5c-b878-7c039e5fc8e6",
     "showTitle": false,
     "title": ""
    }
   },
   "outputs": [
    {
     "data": {
      "text/html": [
       "<style scoped>\n",
       "  .ansiout {\n",
       "    display: block;\n",
       "    unicode-bidi: embed;\n",
       "    white-space: pre-wrap;\n",
       "    word-wrap: break-word;\n",
       "    word-break: break-all;\n",
       "    font-family: \"Source Code Pro\", \"Menlo\", monospace;;\n",
       "    font-size: 13px;\n",
       "    color: #555;\n",
       "    margin-left: 4px;\n",
       "    line-height: 19px;\n",
       "  }\n",
       "</style>\n",
       "<div class=\"ansiout\">Out[77]: {2: 9419.593788127331,\n",
       " 3: 5450.967970863778,\n",
       " 4: 3998.8155859512212,\n",
       " 5: 3153.9046426764166,\n",
       " 6: 2500.3099759883135,\n",
       " 7: 1922.5732804789773,\n",
       " 8: 1689.4986292413962,\n",
       " 9: 1498.377533497909}</div>"
      ]
     },
     "metadata": {
      "application/vnd.databricks.v1+output": {
       "addedWidgets": {},
       "arguments": {},
       "data": "<div class=\"ansiout\">Out[77]: {2: 9419.593788127331,\n 3: 5450.967970863778,\n 4: 3998.8155859512212,\n 5: 3153.9046426764166,\n 6: 2500.3099759883135,\n 7: 1922.5732804789773,\n 8: 1689.4986292413962,\n 9: 1498.377533497909}</div>",
       "datasetInfos": [],
       "metadata": {},
       "removedWidgets": [],
       "type": "html"
      }
     },
     "output_type": "display_data"
    }
   ],
   "source": [
    "cost"
   ]
  },
  {
   "cell_type": "code",
   "execution_count": 0,
   "metadata": {
    "application/vnd.databricks.v1+cell": {
     "cellMetadata": {},
     "inputWidgets": {},
     "nuid": "b5b7aefb-492b-469a-a7b7-f30a4c314c76",
     "showTitle": false,
     "title": ""
    }
   },
   "outputs": [
    {
     "data": {
      "text/html": [
       "<style scoped>\n",
       "  .ansiout {\n",
       "    display: block;\n",
       "    unicode-bidi: embed;\n",
       "    white-space: pre-wrap;\n",
       "    word-wrap: break-word;\n",
       "    word-break: break-all;\n",
       "    font-family: \"Source Code Pro\", \"Menlo\", monospace;;\n",
       "    font-size: 13px;\n",
       "    color: #555;\n",
       "    margin-left: 4px;\n",
       "    line-height: 19px;\n",
       "  }\n",
       "</style>\n",
       "<div class=\"ansiout\">Out[5]: </div>"
      ]
     },
     "metadata": {
      "application/vnd.databricks.v1+output": {
       "addedWidgets": {},
       "arguments": {},
       "data": "<div class=\"ansiout\">Out[5]: </div>",
       "datasetInfos": [],
       "metadata": {},
       "removedWidgets": [],
       "type": "html"
      }
     },
     "output_type": "display_data"
    },
    {
     "data": {
      "image/png": "[encoded data removed]"
     },
     "metadata": {
      "application/vnd.databricks.v1+output": {
       "addedWidgets": {},
       "arguments": {},
       "data": "data:image/png;base64,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",
       "datasetInfos": [],
       "metadata": {
        "imageDimensions": {
         "height": 248,
         "width": 381
        }
       },
       "removedWidgets": [],
       "type": "image"
      },
      "image/png": {
       "height": 248,
       "width": 381
      }
     },
     "output_type": "display_data"
    },
    {
     "data": {
      "text/html": [
       "<style scoped>\n",
       "  .ansiout {\n",
       "    display: block;\n",
       "    unicode-bidi: embed;\n",
       "    white-space: pre-wrap;\n",
       "    word-wrap: break-word;\n",
       "    word-break: break-all;\n",
       "    font-family: \"Source Code Pro\", \"Menlo\", monospace;;\n",
       "    font-size: 13px;\n",
       "    color: #555;\n",
       "    margin-left: 4px;\n",
       "    line-height: 19px;\n",
       "  }\n",
       "</style>\n",
       "<div class=\"ansiout\">&lt;AxesSubplot:&gt;</div>"
      ]
     },
     "metadata": {
      "application/vnd.databricks.v1+output": {
       "addedWidgets": {},
       "arguments": {},
       "data": "<div class=\"ansiout\">&lt;AxesSubplot:&gt;</div>",
       "datasetInfos": [],
       "metadata": {},
       "removedWidgets": [],
       "type": "html"
      }
     },
     "output_type": "display_data"
    }
   ],
   "source": [
    "pd.DataFrame.from_dict(cost,orient='index').plot(kind='line')"
   ]
  },
  {
   "cell_type": "markdown",
   "metadata": {
    "application/vnd.databricks.v1+cell": {
     "cellMetadata": {},
     "inputWidgets": {},
     "nuid": "c82c268e-953f-48be-884c-d5b7e6eb6bed",
     "showTitle": false,
     "title": ""
    }
   },
   "source": [
    "### 5.2 Building model based on k=4"
   ]
  },
  {
   "cell_type": "code",
   "execution_count": 0,
   "metadata": {
    "application/vnd.databricks.v1+cell": {
     "cellMetadata": {},
     "inputWidgets": {},
     "nuid": "b21b3bde-e991-4afb-8af2-7b9994a3c146",
     "showTitle": false,
     "title": ""
    }
   },
   "outputs": [
    {
     "data": {
      "text/html": [
       "<style scoped>\n",
       "  .ansiout {\n",
       "    display: block;\n",
       "    unicode-bidi: embed;\n",
       "    white-space: pre-wrap;\n",
       "    word-wrap: break-word;\n",
       "    word-break: break-all;\n",
       "    font-family: \"Source Code Pro\", \"Menlo\", monospace;;\n",
       "    font-size: 13px;\n",
       "    color: #555;\n",
       "    margin-left: 4px;\n",
       "    line-height: 19px;\n",
       "  }\n",
       "</style>\n",
       "<div class=\"ansiout\"></div>"
      ]
     },
     "metadata": {
      "application/vnd.databricks.v1+output": {
       "addedWidgets": {},
       "arguments": {},
       "data": "<div class=\"ansiout\"></div>",
       "datasetInfos": [],
       "metadata": {},
       "removedWidgets": [],
       "type": "html"
      }
     },
     "output_type": "display_data"
    }
   ],
   "source": [
    "KMeans_algo=KMeans(featuresCol='features',k=4)\n",
    "KMeans_fit=KMeans_algo.fit(scaled_data_sparkdf)"
   ]
  },
  {
   "cell_type": "markdown",
   "metadata": {
    "application/vnd.databricks.v1+cell": {
     "cellMetadata": {},
     "inputWidgets": {},
     "nuid": "369d46cf-c95f-4ef0-a9a4-da9901c37ccf",
     "showTitle": false,
     "title": ""
    }
   },
   "source": [
    "### 5.3 Making predicitions"
   ]
  },
  {
   "cell_type": "code",
   "execution_count": 0,
   "metadata": {
    "application/vnd.databricks.v1+cell": {
     "cellMetadata": {},
     "inputWidgets": {},
     "nuid": "0e70c034-3ada-4c4e-81bd-c91677fc987e",
     "showTitle": false,
     "title": ""
    }
   },
   "outputs": [
    {
     "data": {
      "text/html": [
       "<style scoped>\n",
       "  .ansiout {\n",
       "    display: block;\n",
       "    unicode-bidi: embed;\n",
       "    white-space: pre-wrap;\n",
       "    word-wrap: break-word;\n",
       "    word-break: break-all;\n",
       "    font-family: \"Source Code Pro\", \"Menlo\", monospace;;\n",
       "    font-size: 13px;\n",
       "    color: #555;\n",
       "    margin-left: 4px;\n",
       "    line-height: 19px;\n",
       "  }\n",
       "</style>\n",
       "<div class=\"ansiout\"></div>"
      ]
     },
     "metadata": {
      "application/vnd.databricks.v1+output": {
       "addedWidgets": {},
       "arguments": {},
       "data": "<div class=\"ansiout\"></div>",
       "datasetInfos": [],
       "metadata": {},
       "removedWidgets": [],
       "type": "html"
      }
     },
     "output_type": "display_data"
    }
   ],
   "source": [
    "prediction = KMeans_fit.transform(scaled_data_sparkdf)"
   ]
  },
  {
   "cell_type": "code",
   "execution_count": 0,
   "metadata": {
    "application/vnd.databricks.v1+cell": {
     "cellMetadata": {},
     "inputWidgets": {},
     "nuid": "fc2d122a-8cd6-40fd-9d29-3ffce4cc5bb9",
     "showTitle": false,
     "title": ""
    }
   },
   "outputs": [
    {
     "data": {
      "text/html": [
       "<style scoped>\n",
       "  .ansiout {\n",
       "    display: block;\n",
       "    unicode-bidi: embed;\n",
       "    white-space: pre-wrap;\n",
       "    word-wrap: break-word;\n",
       "    word-break: break-all;\n",
       "    font-family: \"Source Code Pro\", \"Menlo\", monospace;;\n",
       "    font-size: 13px;\n",
       "    color: #555;\n",
       "    margin-left: 4px;\n",
       "    line-height: 19px;\n",
       "  }\n",
       "</style>\n",
       "<div class=\"ansiout\">/databricks/spark/python/pyspark/sql/pandas/conversion.py:92: UserWarning: toPandas attempted Arrow optimization because &#39;spark.sql.execution.arrow.pyspark.enabled&#39; is set to true; however, failed by the reason below:\n",
       "  Unable to convert the field assembled_features. If this column is not necessary, you may consider dropping it or converting to primitive type before the conversion.\n",
       "Direct cause: Unsupported type in conversion to Arrow: VectorUDT\n",
       "Attempting non-optimization as &#39;spark.sql.execution.arrow.pyspark.fallback.enabled&#39; is set to true.\n",
       "  warnings.warn(msg)\n",
       "Out[58]: </div>"
      ]
     },
     "metadata": {
      "application/vnd.databricks.v1+output": {
       "addedWidgets": {},
       "arguments": {},
       "data": "<div class=\"ansiout\">/databricks/spark/python/pyspark/sql/pandas/conversion.py:92: UserWarning: toPandas attempted Arrow optimization because &#39;spark.sql.execution.arrow.pyspark.enabled&#39; is set to true; however, failed by the reason below:\n  Unable to convert the field assembled_features. If this column is not necessary, you may consider dropping it or converting to primitive type before the conversion.\nDirect cause: Unsupported type in conversion to Arrow: VectorUDT\nAttempting non-optimization as &#39;spark.sql.execution.arrow.pyspark.fallback.enabled&#39; is set to true.\n  warnings.warn(msg)\nOut[58]: </div>",
       "datasetInfos": [],
       "metadata": {},
       "removedWidgets": [],
       "type": "html"
      }
     },
     "output_type": "display_data"
    },
    {
     "data": {
      "text/html": [
       "<div>\n",
       "<style scoped>\n",
       "    .dataframe tbody tr th:only-of-type {\n",
       "        vertical-align: middle;\n",
       "    }\n",
       "\n",
       "    .dataframe tbody tr th {\n",
       "        vertical-align: top;\n",
       "    }\n",
       "\n",
       "    .dataframe thead th {\n",
       "        text-align: right;\n",
       "    }\n",
       "</style>\n",
       "<table border=\"1\" class=\"dataframe\">\n",
       "  <thead>\n",
       "    <tr style=\"text-align: right;\">\n",
       "      <th></th>\n",
       "      <th>recency</th>\n",
       "      <th>frequency</th>\n",
       "      <th>monetary_value</th>\n",
       "      <th>CustomerID</th>\n",
       "      <th>assembled_features</th>\n",
       "      <th>features</th>\n",
       "      <th>prediction</th>\n",
       "    </tr>\n",
       "  </thead>\n",
       "  <tbody>\n",
       "    <tr>\n",
       "      <th>0</th>\n",
       "      <td>1</td>\n",
       "      <td>230</td>\n",
       "      <td>3849.780006</td>\n",
       "      <td>12662</td>\n",
       "      <td>[1.0, 230.0, 3849.7800064086914]</td>\n",
       "      <td>[0.009998773726221336, 1.0053102503583666, 0.4...</td>\n",
       "      <td>0</td>\n",
       "    </tr>\n",
       "    <tr>\n",
       "      <th>1</th>\n",
       "      <td>40</td>\n",
       "      <td>27</td>\n",
       "      <td>7330.799984</td>\n",
       "      <td>17396</td>\n",
       "      <td>[40.0, 27.0, 7330.7999839782715]</td>\n",
       "      <td>[0.3999509490488534, 0.11801468156380826, 0.81...</td>\n",
       "      <td>0</td>\n",
       "    </tr>\n",
       "    <tr>\n",
       "      <th>2</th>\n",
       "      <td>4</td>\n",
       "      <td>235</td>\n",
       "      <td>1508.759992</td>\n",
       "      <td>16016</td>\n",
       "      <td>[4.0, 235.0, 1508.759992301464]</td>\n",
       "      <td>[0.03999509490488534, 1.027164821018331, 0.167...</td>\n",
       "      <td>0</td>\n",
       "    </tr>\n",
       "    <tr>\n",
       "      <th>3</th>\n",
       "      <td>109</td>\n",
       "      <td>128</td>\n",
       "      <td>2037.079985</td>\n",
       "      <td>13593</td>\n",
       "      <td>[109.0, 128.0, 2037.0799853801727]</td>\n",
       "      <td>[1.0898663361581256, 0.559477008895091, 0.2266...</td>\n",
       "      <td>0</td>\n",
       "    </tr>\n",
       "    <tr>\n",
       "      <th>4</th>\n",
       "      <td>157</td>\n",
       "      <td>93</td>\n",
       "      <td>446.869997</td>\n",
       "      <td>15889</td>\n",
       "      <td>[157.0, 93.0, 446.8699966073036]</td>\n",
       "      <td>[1.5698074750167497, 0.4064950142753396, 0.049...</td>\n",
       "      <td>2</td>\n",
       "    </tr>\n",
       "  </tbody>\n",
       "</table>\n",
       "</div>"
      ]
     },
     "metadata": {
      "application/vnd.databricks.v1+output": {
       "addedWidgets": {},
       "arguments": {},
       "data": "<div>\n<style scoped>\n    .dataframe tbody tr th:only-of-type {\n        vertical-align: middle;\n    }\n\n    .dataframe tbody tr th {\n        vertical-align: top;\n    }\n\n    .dataframe thead th {\n        text-align: right;\n    }\n</style>\n<table border=\"1\" class=\"dataframe\">\n  <thead>\n    <tr style=\"text-align: right;\">\n      <th></th>\n      <th>recency</th>\n      <th>frequency</th>\n      <th>monetary_value</th>\n      <th>CustomerID</th>\n      <th>assembled_features</th>\n      <th>features</th>\n      <th>prediction</th>\n    </tr>\n  </thead>\n  <tbody>\n    <tr>\n      <th>0</th>\n      <td>1</td>\n      <td>230</td>\n      <td>3849.780006</td>\n      <td>12662</td>\n      <td>[1.0, 230.0, 3849.7800064086914]</td>\n      <td>[0.009998773726221336, 1.0053102503583666, 0.4...</td>\n      <td>0</td>\n    </tr>\n    <tr>\n      <th>1</th>\n      <td>40</td>\n      <td>27</td>\n      <td>7330.799984</td>\n      <td>17396</td>\n      <td>[40.0, 27.0, 7330.7999839782715]</td>\n      <td>[0.3999509490488534, 0.11801468156380826, 0.81...</td>\n      <td>0</td>\n    </tr>\n    <tr>\n      <th>2</th>\n      <td>4</td>\n      <td>235</td>\n      <td>1508.759992</td>\n      <td>16016</td>\n      <td>[4.0, 235.0, 1508.759992301464]</td>\n      <td>[0.03999509490488534, 1.027164821018331, 0.167...</td>\n      <td>0</td>\n    </tr>\n    <tr>\n      <th>3</th>\n      <td>109</td>\n      <td>128</td>\n      <td>2037.079985</td>\n      <td>13593</td>\n      <td>[109.0, 128.0, 2037.0799853801727]</td>\n      <td>[1.0898663361581256, 0.559477008895091, 0.2266...</td>\n      <td>0</td>\n    </tr>\n    <tr>\n      <th>4</th>\n      <td>157</td>\n      <td>93</td>\n      <td>446.869997</td>\n      <td>15889</td>\n      <td>[157.0, 93.0, 446.8699966073036]</td>\n      <td>[1.5698074750167497, 0.4064950142753396, 0.049...</td>\n      <td>2</td>\n    </tr>\n  </tbody>\n</table>\n</div>",
       "datasetInfos": [],
       "metadata": {},
       "removedWidgets": [],
       "textData": null,
       "type": "htmlSandbox"
      }
     },
     "output_type": "display_data"
    }
   ],
   "source": [
    "result_df = prediction.toPandas()\n",
    "result_df.head()"
   ]
  },
  {
   "cell_type": "markdown",
   "metadata": {
    "application/vnd.databricks.v1+cell": {
     "cellMetadata": {},
     "inputWidgets": {},
     "nuid": "b8a6523d-73b8-43b0-b79d-e35aaac62c6b",
     "showTitle": false,
     "title": ""
    }
   },
   "source": [
    "## 6. Cluster Analysis"
   ]
  },
  {
   "cell_type": "code",
   "execution_count": 0,
   "metadata": {
    "application/vnd.databricks.v1+cell": {
     "cellMetadata": {},
     "inputWidgets": {},
     "nuid": "73c39ee0-efa7-4888-8a1c-c2bf01b4727c",
     "showTitle": false,
     "title": ""
    }
   },
   "outputs": [
    {
     "data": {
      "image/png": "[encoded data removed]"
     },
     "metadata": {
      "application/vnd.databricks.v1+output": {
       "addedWidgets": {},
       "arguments": {},
       "data": "data:image/png;base64,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",
       "datasetInfos": [],
       "metadata": {
        "imageDimensions": {
         "height": 262,
         "width": 389
        }
       },
       "removedWidgets": [],
       "type": "image"
      },
      "image/png": {
       "height": 262,
       "width": 389
      }
     },
     "output_type": "display_data"
    },
    {
     "data": {
      "image/png": "[encoded data removed]"
     },
     "metadata": {
      "application/vnd.databricks.v1+output": {
       "addedWidgets": {},
       "arguments": {},
       "data": "data:image/png;base64,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",
       "datasetInfos": [],
       "metadata": {
        "imageDimensions": {
         "height": 262,
         "width": 395
        }
       },
       "removedWidgets": [],
       "type": "image"
      },
      "image/png": {
       "height": 262,
       "width": 395
      }
     },
     "output_type": "display_data"
    },
    {
     "data": {
      "image/png": "[encoded data removed]"
     },
     "metadata": {
      "application/vnd.databricks.v1+output": {
       "addedWidgets": {},
       "arguments": {},
       "data": "data:image/png;base64,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",
       "datasetInfos": [],
       "metadata": {
        "imageDimensions": {
         "height": 262,
         "width": 408
        }
       },
       "removedWidgets": [],
       "type": "image"
      },
      "image/png": {
       "height": 262,
       "width": 408
      }
     },
     "output_type": "display_data"
    }
   ],
   "source": [
    "avg_df = result_df.groupby(['prediction'], as_index=False).mean()\n",
    "\n",
    "list1 = ['recency','frequency','monetary_value']\n",
    "\n",
    "for i in list1:\n",
    "    sns.barplot(x='prediction',y=str(i),data=avg_df)\n",
    "    plt.show()"
   ]
  }
 ],
 "metadata": {
  "application/vnd.databricks.v1+notebook": {
   "dashboards": [],
   "language": "python",
   "notebookMetadata": {
    "pythonIndentUnit": 2
   },
   "notebookName": "Pyspark_Clustering",
   "notebookOrigID": 4347470697152105,
   "widgets": {}
  },
  "kernelspec": {
   "display_name": "Python 3 (ipykernel)",
   "language": "python",
   "name": "python3"
  },
  "language_info": {
   "codemirror_mode": {
    "name": "ipython",
    "version": 3
   },
   "file_extension": ".py",
   "mimetype": "text/x-python",
   "name": "python",
   "nbconvert_exporter": "python",
   "pygments_lexer": "ipython3",
   "version": "3.9.7"
  }
 },
 "nbformat": 4,
 "nbformat_minor": 1
}
