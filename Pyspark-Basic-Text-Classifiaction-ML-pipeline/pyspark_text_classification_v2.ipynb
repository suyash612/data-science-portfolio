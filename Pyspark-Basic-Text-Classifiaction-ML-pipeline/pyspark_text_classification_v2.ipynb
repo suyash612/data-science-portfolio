{
  "cells": [
    {
      "cell_type": "markdown",
      "source": [
        "#Basic Text classification using PySpark ML Pipeline\n",
        "1. Imports\n",
        "2. Load Data <br>\n",
        "  2.1 Split data<br>\n",
        "3. Test Pipeline components <br>\n",
        "  3.1 Tokenize <br>\n",
        "  3.2 Count Vectorizer <br>\n",
        "  3.3 Logistic Regression <br>\n",
        "4. Testing Pipeline\n",
        "5. Pipeline + Cross-validation + Tuning <br>\n",
        "  5.1 Define pipeline <br>\n",
        "  5.2 Define Hyper-parameter grid <br>\n",
        "  5.3 Define Cross validation params <br>\n",
        "  5.4 Get best CV model <br>\n",
        "  5.5 Predictions form best CV model <br>\n",
        "  5.6 Compute Eval metrics"
      ],
      "metadata": {
        "application/vnd.databricks.v1+cell": {
          "showTitle": false,
          "cellMetadata": {},
          "nuid": "715e01ea-395d-4195-b873-36ff7c4f1290",
          "inputWidgets": {},
          "title": ""
        },
        "id": "3ngS2LQ2-DsQ"
      }
    },
    {
      "cell_type": "markdown",
      "source": [
        "## 1. Imports"
      ],
      "metadata": {
        "application/vnd.databricks.v1+cell": {
          "showTitle": false,
          "cellMetadata": {},
          "nuid": "9c92f386-1320-47ef-a538-864b3e23219d",
          "inputWidgets": {},
          "title": ""
        },
        "id": "UWu6P2Q2-DsS"
      }
    },
    {
      "cell_type": "code",
      "source": [
        "from pyspark.ml import Pipeline\n",
        "from pyspark.ml.classification import LogisticRegression\n",
        "from pyspark.ml.feature import CountVectorizer, Tokenizer, StringIndexer\n",
        "from pyspark.sql import SparkSession\n",
        "from pyspark import SparkContext, SparkConf\n",
        "from pyspark import pandas as ps\n",
        "from pyspark.ml.tuning import CrossValidator, ParamGridBuilder\n",
        "from pyspark.ml.evaluation import BinaryClassificationEvaluator, MulticlassClassificationEvaluator\n",
        "from sklearn.metrics import classification_report"
      ],
      "metadata": {
        "application/vnd.databricks.v1+cell": {
          "showTitle": false,
          "cellMetadata": {},
          "nuid": "63b109d6-d99b-4553-8e3b-5d65af6299b9",
          "inputWidgets": {},
          "title": ""
        },
        "id": "XM0DXdW2-DsS",
        "outputId": "dbd992c3-bf3f-40d4-f4a4-dabf5b60250b"
      },
      "outputs": [
        {
          "output_type": "display_data",
          "metadata": {
            "application/vnd.databricks.v1+output": {
              "datasetInfos": [],
              "data": "<div class=\"ansiout\"></div>",
              "removedWidgets": [],
              "addedWidgets": {},
              "metadata": {},
              "type": "html",
              "arguments": {}
            }
          },
          "data": {
            "text/html": [
              "<style scoped>\n  .ansiout {\n    display: block;\n    unicode-bidi: embed;\n    white-space: pre-wrap;\n    word-wrap: break-word;\n    word-break: break-all;\n    font-family: \"Source Code Pro\", \"Menlo\", monospace;;\n    font-size: 13px;\n    color: #555;\n    margin-left: 4px;\n    line-height: 19px;\n  }\n</style>\n<div class=\"ansiout\"></div>"
            ]
          }
        }
      ],
      "execution_count": null
    },
    {
      "cell_type": "code",
      "source": [
        "spark = SparkSession.builder.getOrCreate()"
      ],
      "metadata": {
        "application/vnd.databricks.v1+cell": {
          "showTitle": false,
          "cellMetadata": {},
          "nuid": "b796449c-66fa-41c1-8bfe-76c3149e0b6d",
          "inputWidgets": {},
          "title": ""
        },
        "id": "CPDfCq-D-DsU",
        "outputId": "6224ae11-6561-438c-b261-77a64f035950"
      },
      "outputs": [
        {
          "output_type": "display_data",
          "metadata": {
            "application/vnd.databricks.v1+output": {
              "datasetInfos": [],
              "data": "<div class=\"ansiout\"></div>",
              "removedWidgets": [],
              "addedWidgets": {},
              "metadata": {},
              "type": "html",
              "arguments": {}
            }
          },
          "data": {
            "text/html": [
              "<style scoped>\n  .ansiout {\n    display: block;\n    unicode-bidi: embed;\n    white-space: pre-wrap;\n    word-wrap: break-word;\n    word-break: break-all;\n    font-family: \"Source Code Pro\", \"Menlo\", monospace;;\n    font-size: 13px;\n    color: #555;\n    margin-left: 4px;\n    line-height: 19px;\n  }\n</style>\n<div class=\"ansiout\"></div>"
            ]
          }
        }
      ],
      "execution_count": null
    },
    {
      "cell_type": "markdown",
      "source": [
        "## 2. Load Data"
      ],
      "metadata": {
        "application/vnd.databricks.v1+cell": {
          "showTitle": false,
          "cellMetadata": {},
          "nuid": "7da0c4fa-f5f0-4767-b35c-8145fdb4f757",
          "inputWidgets": {},
          "title": ""
        },
        "id": "Ij_ouOUe-DsU"
      }
    },
    {
      "cell_type": "code",
      "source": [
        "# Load file\n",
        "data_sparkdf = df1 = spark.read.format(\"csv\").option(\"header\", \"true\").load(\"dbfs:/FileStore/shared_uploads/leena.khote@unilever.com/ecommerceDataset_v2.csv\")"
      ],
      "metadata": {
        "application/vnd.databricks.v1+cell": {
          "showTitle": false,
          "cellMetadata": {},
          "nuid": "bc9e93bc-93c7-4bc4-8c20-05f633670f44",
          "inputWidgets": {},
          "title": ""
        },
        "id": "vH0iCBHv-DsV",
        "outputId": "91e7a62a-7035-4d88-9bdb-3363c3691da7"
      },
      "outputs": [
        {
          "output_type": "display_data",
          "metadata": {
            "application/vnd.databricks.v1+output": {
              "datasetInfos": [],
              "data": "<div class=\"ansiout\"></div>",
              "removedWidgets": [],
              "addedWidgets": {},
              "metadata": {},
              "type": "html",
              "arguments": {}
            }
          },
          "data": {
            "text/html": [
              "<style scoped>\n  .ansiout {\n    display: block;\n    unicode-bidi: embed;\n    white-space: pre-wrap;\n    word-wrap: break-word;\n    word-break: break-all;\n    font-family: \"Source Code Pro\", \"Menlo\", monospace;;\n    font-size: 13px;\n    color: #555;\n    margin-left: 4px;\n    line-height: 19px;\n  }\n</style>\n<div class=\"ansiout\"></div>"
            ]
          }
        }
      ],
      "execution_count": null
    },
    {
      "cell_type": "code",
      "source": [
        "data_sparkdf.printSchema()"
      ],
      "metadata": {
        "application/vnd.databricks.v1+cell": {
          "showTitle": false,
          "cellMetadata": {},
          "nuid": "0d52da2c-f270-43b2-a7a1-85ae5129178c",
          "inputWidgets": {},
          "title": ""
        },
        "id": "3ntn9glF-DsV",
        "outputId": "e07fcbd1-434e-40dd-b964-6c90d9374562"
      },
      "outputs": [
        {
          "output_type": "display_data",
          "metadata": {
            "application/vnd.databricks.v1+output": {
              "datasetInfos": [],
              "data": "<div class=\"ansiout\">root\n |-- prod_category: string (nullable = true)\n |-- prod_title_desc: string (nullable = true)\n\n</div>",
              "removedWidgets": [],
              "addedWidgets": {},
              "metadata": {},
              "type": "html",
              "arguments": {}
            }
          },
          "data": {
            "text/html": [
              "<style scoped>\n  .ansiout {\n    display: block;\n    unicode-bidi: embed;\n    white-space: pre-wrap;\n    word-wrap: break-word;\n    word-break: break-all;\n    font-family: \"Source Code Pro\", \"Menlo\", monospace;;\n    font-size: 13px;\n    color: #555;\n    margin-left: 4px;\n    line-height: 19px;\n  }\n</style>\n<div class=\"ansiout\">root\n-- prod_category: string (nullable = true)\n-- prod_title_desc: string (nullable = true)\n\n</div>"
            ]
          }
        }
      ],
      "execution_count": null
    },
    {
      "cell_type": "code",
      "source": [
        "data_sparkdf.show(2)"
      ],
      "metadata": {
        "application/vnd.databricks.v1+cell": {
          "showTitle": false,
          "cellMetadata": {},
          "nuid": "b880591c-65f2-4205-9cd1-23a720b75114",
          "inputWidgets": {},
          "title": ""
        },
        "id": "646X_nVf-DsV",
        "outputId": "a399993d-01eb-43f2-e627-e887785913ee"
      },
      "outputs": [
        {
          "output_type": "display_data",
          "metadata": {
            "application/vnd.databricks.v1+output": {
              "datasetInfos": [],
              "data": "<div class=\"ansiout\">+-------------+--------------------+\n|prod_category|     prod_title_desc|\n+-------------+--------------------+\n|    Household|Paper Plane Desig...|\n|    Household|SAF &#39;Floral&#39; Fram...|\n+-------------+--------------------+\nonly showing top 2 rows\n\n</div>",
              "removedWidgets": [],
              "addedWidgets": {},
              "metadata": {},
              "type": "html",
              "arguments": {}
            }
          },
          "data": {
            "text/html": [
              "<style scoped>\n  .ansiout {\n    display: block;\n    unicode-bidi: embed;\n    white-space: pre-wrap;\n    word-wrap: break-word;\n    word-break: break-all;\n    font-family: \"Source Code Pro\", \"Menlo\", monospace;;\n    font-size: 13px;\n    color: #555;\n    margin-left: 4px;\n    line-height: 19px;\n  }\n</style>\n<div class=\"ansiout\">+-------------+--------------------+\nprod_category|     prod_title_desc|\n+-------------+--------------------+\n    Household|Paper Plane Desig...|\n    Household|SAF &#39;Floral&#39; Fram...|\n+-------------+--------------------+\nonly showing top 2 rows\n\n</div>"
            ]
          }
        }
      ],
      "execution_count": null
    },
    {
      "cell_type": "code",
      "source": [
        "data_sparkdf.dtypes"
      ],
      "metadata": {
        "application/vnd.databricks.v1+cell": {
          "showTitle": false,
          "cellMetadata": {},
          "nuid": "d3cb7808-a8f0-4113-b952-5e04180f04c8",
          "inputWidgets": {},
          "title": ""
        },
        "id": "YiDb-UtU-DsW",
        "outputId": "2c11b4fd-8cc3-49cc-d2b4-539fabe4372f"
      },
      "outputs": [
        {
          "output_type": "display_data",
          "metadata": {
            "application/vnd.databricks.v1+output": {
              "datasetInfos": [],
              "data": "<div class=\"ansiout\">Out[31]: [(&#39;prod_category&#39;, &#39;string&#39;), (&#39;prod_title_desc&#39;, &#39;string&#39;)]</div>",
              "removedWidgets": [],
              "addedWidgets": {},
              "metadata": {},
              "type": "html",
              "arguments": {}
            }
          },
          "data": {
            "text/html": [
              "<style scoped>\n  .ansiout {\n    display: block;\n    unicode-bidi: embed;\n    white-space: pre-wrap;\n    word-wrap: break-word;\n    word-break: break-all;\n    font-family: \"Source Code Pro\", \"Menlo\", monospace;;\n    font-size: 13px;\n    color: #555;\n    margin-left: 4px;\n    line-height: 19px;\n  }\n</style>\n<div class=\"ansiout\">Out[31]: [(&#39;prod_category&#39;, &#39;string&#39;), (&#39;prod_title_desc&#39;, &#39;string&#39;)]</div>"
            ]
          }
        }
      ],
      "execution_count": null
    },
    {
      "cell_type": "code",
      "source": [
        "data_sparkdf.select('prod_category').distinct().collect()"
      ],
      "metadata": {
        "application/vnd.databricks.v1+cell": {
          "showTitle": false,
          "cellMetadata": {},
          "nuid": "f2b01301-753f-460a-8e9d-8dd7d4fd456c",
          "inputWidgets": {},
          "title": ""
        },
        "id": "nhItua_I-DsW",
        "outputId": "70e912c6-226b-4c10-9ee7-c80e644e28e2"
      },
      "outputs": [
        {
          "output_type": "display_data",
          "metadata": {
            "application/vnd.databricks.v1+output": {
              "datasetInfos": [],
              "data": "<div class=\"ansiout\">Out[32]: [Row(prod_category=&#39;Household&#39;),\n Row(prod_category=&#39; When I heard of a concept that could make Soda right at home using Co2&#39;),\n Row(prod_category=&#39; Bubbles makes plain water so much more fun to drink&#39;),\n Row(prod_category=&#39; Our Sodamakers is designed in Turin&#39;),\n Row(prod_category=&#39; home. You can also add fizz to your home made fresh juice or to any beverage that tastes better with soda.                               HOW DOES IT WORK  Fill cold water into the reusable BPA-Free Mr. Butler Bottle&#39;),\n Row(prod_category=&#34; turn plain drinking water into fresh sparkling fizzy soda within seconds!  What&#39;s more..you can add your soft drink flavours from brands such as Rasna and Tang to make your own fizzy soft drinks at &#34;),\n Row(prod_category=&#39; The Sodamaker plays a direct role in protecting our planet from plastic waste. By using a Sodamaker to make Soda and Soft Drinks at home&#39;),\n Row(prod_category=&#39; Over time&#39;),\n Row(prod_category=&#39; In addition to the  convenience aspects of the product&#39;),\n Row(prod_category=&#39; You can be sure of the quality of water used as you control that. &#39;),\n Row(prod_category=&#39; Almost everybody likes fizz and what better way than to make it in seconds at home using Co2 which does no harm to your health and using clean water from your own source. Sparkling water also makes people drink more water which is good for their health.    What makes your product special? I am immensely proud to make a product that has not just one&#39;),\n Row(prod_category=&#39;Books&#39;),\n Row(prod_category=&#39; Growing up in the South&#39;),\n Row(prod_category=&#39; This is a multifaceted portrait of Muhammad Ali only he could render: sports legend; unapologetic anti-war advocate; outrageous showman and gracious goodwill ambassador; fighter&#39;),\n Row(prod_category=&#39; Who better to tell the tale than the man who went the distance living it?&#34;&#39;),\n Row(prod_category=&#39;Clothing &amp; Accessories&#39;),\n Row(prod_category=&#39;Electronics&#39;),\n Row(prod_category=&#39; In our business model&#39;),\n Row(prod_category=&#39;    What has been the best part of your startup experience? In this dynamic start-up industry&#39;),\n Row(prod_category=&#39; Combined with a IPX4 Sweat/Dust/Splash Resistant design&#39;),\n Row(prod_category=&#39;                               Music the way it should be  Bluetooth 4.1 technology features stable signal transmission&#39;),\n Row(prod_category=&#39; Submerge yourself in the limitless world of sound with the latest in Bluetooth innovation&#39;)]</div>",
              "removedWidgets": [],
              "addedWidgets": {},
              "metadata": {},
              "type": "html",
              "arguments": {}
            }
          },
          "data": {
            "text/html": [
              "<style scoped>\n  .ansiout {\n    display: block;\n    unicode-bidi: embed;\n    white-space: pre-wrap;\n    word-wrap: break-word;\n    word-break: break-all;\n    font-family: \"Source Code Pro\", \"Menlo\", monospace;;\n    font-size: 13px;\n    color: #555;\n    margin-left: 4px;\n    line-height: 19px;\n  }\n</style>\n<div class=\"ansiout\">Out[32]: [Row(prod_category=&#39;Household&#39;),\n Row(prod_category=&#39; When I heard of a concept that could make Soda right at home using Co2&#39;),\n Row(prod_category=&#39; Bubbles makes plain water so much more fun to drink&#39;),\n Row(prod_category=&#39; Our Sodamakers is designed in Turin&#39;),\n Row(prod_category=&#39; home. You can also add fizz to your home made fresh juice or to any beverage that tastes better with soda.                               HOW DOES IT WORK  Fill cold water into the reusable BPA-Free Mr. Butler Bottle&#39;),\n Row(prod_category=&#34; turn plain drinking water into fresh sparkling fizzy soda within seconds!  What&#39;s more..you can add your soft drink flavours from brands such as Rasna and Tang to make your own fizzy soft drinks at &#34;),\n Row(prod_category=&#39; The Sodamaker plays a direct role in protecting our planet from plastic waste. By using a Sodamaker to make Soda and Soft Drinks at home&#39;),\n Row(prod_category=&#39; Over time&#39;),\n Row(prod_category=&#39; In addition to the  convenience aspects of the product&#39;),\n Row(prod_category=&#39; You can be sure of the quality of water used as you control that. &#39;),\n Row(prod_category=&#39; Almost everybody likes fizz and what better way than to make it in seconds at home using Co2 which does no harm to your health and using clean water from your own source. Sparkling water also makes people drink more water which is good for their health.    What makes your product special? I am immensely proud to make a product that has not just one&#39;),\n Row(prod_category=&#39;Books&#39;),\n Row(prod_category=&#39; Growing up in the South&#39;),\n Row(prod_category=&#39; This is a multifaceted portrait of Muhammad Ali only he could render: sports legend; unapologetic anti-war advocate; outrageous showman and gracious goodwill ambassador; fighter&#39;),\n Row(prod_category=&#39; Who better to tell the tale than the man who went the distance living it?&#34;&#39;),\n Row(prod_category=&#39;Clothing &amp; Accessories&#39;),\n Row(prod_category=&#39;Electronics&#39;),\n Row(prod_category=&#39; In our business model&#39;),\n Row(prod_category=&#39;    What has been the best part of your startup experience? In this dynamic start-up industry&#39;),\n Row(prod_category=&#39; Combined with a IPX4 Sweat/Dust/Splash Resistant design&#39;),\n Row(prod_category=&#39;                               Music the way it should be  Bluetooth 4.1 technology features stable signal transmission&#39;),\n Row(prod_category=&#39; Submerge yourself in the limitless world of sound with the latest in Bluetooth innovation&#39;)]</div>"
            ]
          }
        }
      ],
      "execution_count": null
    },
    {
      "cell_type": "code",
      "source": [
        "data_sparkdf = data_sparkdf.filter((data_sparkdf.prod_category  == \"Household\") | (data_sparkdf.prod_category  == \"Books\") |(data_sparkdf.prod_category  == \"Clothing & Accessories\") | (data_sparkdf.prod_category  == \"Electronics\"))\n",
        "data_sparkdf = data_sparkdf.filter(data_sparkdf.prod_title_desc.isNotNull())"
      ],
      "metadata": {
        "application/vnd.databricks.v1+cell": {
          "showTitle": false,
          "cellMetadata": {},
          "nuid": "723d44a9-b62d-4eb0-bebf-38e5db33683f",
          "inputWidgets": {},
          "title": ""
        },
        "id": "mHhhXaoN-DsW",
        "outputId": "a272e194-afe5-4358-fcfb-77060ae7f5a1"
      },
      "outputs": [
        {
          "output_type": "display_data",
          "metadata": {
            "application/vnd.databricks.v1+output": {
              "datasetInfos": [],
              "data": "<div class=\"ansiout\"></div>",
              "removedWidgets": [],
              "addedWidgets": {},
              "metadata": {},
              "type": "html",
              "arguments": {}
            }
          },
          "data": {
            "text/html": [
              "<style scoped>\n  .ansiout {\n    display: block;\n    unicode-bidi: embed;\n    white-space: pre-wrap;\n    word-wrap: break-word;\n    word-break: break-all;\n    font-family: \"Source Code Pro\", \"Menlo\", monospace;;\n    font-size: 13px;\n    color: #555;\n    margin-left: 4px;\n    line-height: 19px;\n  }\n</style>\n<div class=\"ansiout\"></div>"
            ]
          }
        }
      ],
      "execution_count": null
    },
    {
      "cell_type": "code",
      "source": [
        "data_sparkdf.select('prod_category').distinct().collect()"
      ],
      "metadata": {
        "application/vnd.databricks.v1+cell": {
          "showTitle": false,
          "cellMetadata": {},
          "nuid": "e88d5f17-4720-4866-9d78-0058573da512",
          "inputWidgets": {},
          "title": ""
        },
        "id": "wutI5QLc-DsX",
        "outputId": "a896ee57-ba12-443d-ed08-b9fb0cc8a2c2"
      },
      "outputs": [
        {
          "output_type": "display_data",
          "metadata": {
            "application/vnd.databricks.v1+output": {
              "datasetInfos": [],
              "data": "<div class=\"ansiout\">Out[34]: [Row(prod_category=&#39;Household&#39;),\n Row(prod_category=&#39;Books&#39;),\n Row(prod_category=&#39;Clothing &amp; Accessories&#39;),\n Row(prod_category=&#39;Electronics&#39;)]</div>",
              "removedWidgets": [],
              "addedWidgets": {},
              "metadata": {},
              "type": "html",
              "arguments": {}
            }
          },
          "data": {
            "text/html": [
              "<style scoped>\n  .ansiout {\n    display: block;\n    unicode-bidi: embed;\n    white-space: pre-wrap;\n    word-wrap: break-word;\n    word-break: break-all;\n    font-family: \"Source Code Pro\", \"Menlo\", monospace;;\n    font-size: 13px;\n    color: #555;\n    margin-left: 4px;\n    line-height: 19px;\n  }\n</style>\n<div class=\"ansiout\">Out[34]: [Row(prod_category=&#39;Household&#39;),\n Row(prod_category=&#39;Books&#39;),\n Row(prod_category=&#39;Clothing &amp; Accessories&#39;),\n Row(prod_category=&#39;Electronics&#39;)]</div>"
            ]
          }
        }
      ],
      "execution_count": null
    },
    {
      "cell_type": "markdown",
      "source": [
        "### 2.1 Split data"
      ],
      "metadata": {
        "application/vnd.databricks.v1+cell": {
          "showTitle": false,
          "cellMetadata": {},
          "nuid": "520cfbbb-68d4-43e1-bd66-16878cd3078d",
          "inputWidgets": {},
          "title": ""
        },
        "id": "VtmG4GEC-DsX"
      }
    },
    {
      "cell_type": "code",
      "source": [
        "### Split data into Train & Test [90%,10%]\n",
        "train_sparkdf, test_sparkdf = data_sparkdf.randomSplit([0.9, 0.1], seed=123)"
      ],
      "metadata": {
        "application/vnd.databricks.v1+cell": {
          "showTitle": false,
          "cellMetadata": {},
          "nuid": "667e1e89-7e6e-4de1-b753-e8755b3d11bc",
          "inputWidgets": {},
          "title": ""
        },
        "id": "wfVxBLFl-DsY",
        "outputId": "97de4d11-0dcb-4077-9ea4-6270317068eb"
      },
      "outputs": [
        {
          "output_type": "display_data",
          "metadata": {
            "application/vnd.databricks.v1+output": {
              "datasetInfos": [],
              "data": "<div class=\"ansiout\"></div>",
              "removedWidgets": [],
              "addedWidgets": {},
              "metadata": {},
              "type": "html",
              "arguments": {}
            }
          },
          "data": {
            "text/html": [
              "<style scoped>\n  .ansiout {\n    display: block;\n    unicode-bidi: embed;\n    white-space: pre-wrap;\n    word-wrap: break-word;\n    word-break: break-all;\n    font-family: \"Source Code Pro\", \"Menlo\", monospace;;\n    font-size: 13px;\n    color: #555;\n    margin-left: 4px;\n    line-height: 19px;\n  }\n</style>\n<div class=\"ansiout\"></div>"
            ]
          }
        }
      ],
      "execution_count": null
    },
    {
      "cell_type": "code",
      "source": [
        "print((train_sparkdf.count(), len(train_sparkdf.columns)))"
      ],
      "metadata": {
        "application/vnd.databricks.v1+cell": {
          "showTitle": false,
          "cellMetadata": {},
          "nuid": "fd2f5fd2-1d9e-4b31-a9f4-e63c39499f60",
          "inputWidgets": {},
          "title": ""
        },
        "id": "EHkjM4U_-DsY",
        "outputId": "1f24bcfd-0dac-4275-ae09-fbba7171e273"
      },
      "outputs": [
        {
          "output_type": "display_data",
          "metadata": {
            "application/vnd.databricks.v1+output": {
              "datasetInfos": [],
              "data": "<div class=\"ansiout\">(45450, 2)\n</div>",
              "removedWidgets": [],
              "addedWidgets": {},
              "metadata": {},
              "type": "html",
              "arguments": {}
            }
          },
          "data": {
            "text/html": [
              "<style scoped>\n  .ansiout {\n    display: block;\n    unicode-bidi: embed;\n    white-space: pre-wrap;\n    word-wrap: break-word;\n    word-break: break-all;\n    font-family: \"Source Code Pro\", \"Menlo\", monospace;;\n    font-size: 13px;\n    color: #555;\n    margin-left: 4px;\n    line-height: 19px;\n  }\n</style>\n<div class=\"ansiout\">(45450, 2)\n</div>"
            ]
          }
        }
      ],
      "execution_count": null
    },
    {
      "cell_type": "markdown",
      "source": [
        "## 3. Test Pipeline components"
      ],
      "metadata": {
        "application/vnd.databricks.v1+cell": {
          "showTitle": false,
          "cellMetadata": {},
          "nuid": "d69ce569-1cbf-43ab-9d96-d2031c7263e8",
          "inputWidgets": {},
          "title": ""
        },
        "id": "mY130TlE-DsY"
      }
    },
    {
      "cell_type": "markdown",
      "source": [
        "### 3.1 Tokenize"
      ],
      "metadata": {
        "application/vnd.databricks.v1+cell": {
          "showTitle": false,
          "cellMetadata": {},
          "nuid": "2dc56fd3-e126-43ee-970a-faa716f4e522",
          "inputWidgets": {},
          "title": ""
        },
        "id": "BIOB9Bdq-DsZ"
      }
    },
    {
      "cell_type": "code",
      "source": [
        "### Tokenize\n",
        "tokenizer = Tokenizer(inputCol=\"prod_title_desc\", outputCol=\"words\")\n",
        "data_token_sparkdf = tokenizer.transform(data_sparkdf)"
      ],
      "metadata": {
        "application/vnd.databricks.v1+cell": {
          "showTitle": false,
          "cellMetadata": {},
          "nuid": "1ff2f638-7199-4b2b-b5fb-b77adbc7436d",
          "inputWidgets": {},
          "title": ""
        },
        "id": "74RNIskz-DsZ",
        "outputId": "b363bf0e-efc1-4f53-e202-3015048bc4ee"
      },
      "outputs": [
        {
          "output_type": "display_data",
          "metadata": {
            "application/vnd.databricks.v1+output": {
              "datasetInfos": [],
              "data": "<div class=\"ansiout\"></div>",
              "removedWidgets": [],
              "addedWidgets": {},
              "metadata": {},
              "type": "html",
              "arguments": {}
            }
          },
          "data": {
            "text/html": [
              "<style scoped>\n  .ansiout {\n    display: block;\n    unicode-bidi: embed;\n    white-space: pre-wrap;\n    word-wrap: break-word;\n    word-break: break-all;\n    font-family: \"Source Code Pro\", \"Menlo\", monospace;;\n    font-size: 13px;\n    color: #555;\n    margin-left: 4px;\n    line-height: 19px;\n  }\n</style>\n<div class=\"ansiout\"></div>"
            ]
          }
        }
      ],
      "execution_count": null
    },
    {
      "cell_type": "code",
      "source": [
        "data_token_sparkdf.show(2)"
      ],
      "metadata": {
        "application/vnd.databricks.v1+cell": {
          "showTitle": false,
          "cellMetadata": {},
          "nuid": "0b618326-c22f-4650-a94a-96d08139cd1f",
          "inputWidgets": {},
          "title": ""
        },
        "id": "ugaoFYFQ-Dsa",
        "outputId": "2bc23569-859a-4b3e-d7f0-2cf2520e47c0"
      },
      "outputs": [
        {
          "output_type": "display_data",
          "metadata": {
            "application/vnd.databricks.v1+output": {
              "datasetInfos": [],
              "data": "<div class=\"ansiout\">+-------------+--------------------+--------------------+\n|prod_category|     prod_title_desc|               words|\n+-------------+--------------------+--------------------+\n|    Household|Paper Plane Desig...|[paper, plane, de...|\n|    Household|SAF &#39;Floral&#39; Fram...|[saf, &#39;floral&#39;, f...|\n+-------------+--------------------+--------------------+\nonly showing top 2 rows\n\n</div>",
              "removedWidgets": [],
              "addedWidgets": {},
              "metadata": {},
              "type": "html",
              "arguments": {}
            }
          },
          "data": {
            "text/html": [
              "<style scoped>\n  .ansiout {\n    display: block;\n    unicode-bidi: embed;\n    white-space: pre-wrap;\n    word-wrap: break-word;\n    word-break: break-all;\n    font-family: \"Source Code Pro\", \"Menlo\", monospace;;\n    font-size: 13px;\n    color: #555;\n    margin-left: 4px;\n    line-height: 19px;\n  }\n</style>\n<div class=\"ansiout\">+-------------+--------------------+--------------------+\nprod_category|     prod_title_desc|               words|\n+-------------+--------------------+--------------------+\n    Household|Paper Plane Desig...|[paper, plane, de...|\n    Household|SAF &#39;Floral&#39; Fram...|[saf, &#39;floral&#39;, f...|\n+-------------+--------------------+--------------------+\nonly showing top 2 rows\n\n</div>"
            ]
          }
        }
      ],
      "execution_count": null
    },
    {
      "cell_type": "code",
      "source": [
        "data_token_sparkdf.dtypes"
      ],
      "metadata": {
        "application/vnd.databricks.v1+cell": {
          "showTitle": false,
          "cellMetadata": {},
          "nuid": "fc900f36-37f2-49a1-92fc-8ab5d04fe6d8",
          "inputWidgets": {},
          "title": ""
        },
        "id": "vwx-unoc-Dsb",
        "outputId": "0c612b82-e6de-4197-8382-98f3519a885b"
      },
      "outputs": [
        {
          "output_type": "display_data",
          "metadata": {
            "application/vnd.databricks.v1+output": {
              "datasetInfos": [],
              "data": "<div class=\"ansiout\">Out[10]: [(&#39;prod_category&#39;, &#39;string&#39;),\n (&#39;prod_title_desc&#39;, &#39;string&#39;),\n (&#39;words&#39;, &#39;array&lt;string&gt;&#39;)]</div>",
              "removedWidgets": [],
              "addedWidgets": {},
              "metadata": {},
              "type": "html",
              "arguments": {}
            }
          },
          "data": {
            "text/html": [
              "<style scoped>\n  .ansiout {\n    display: block;\n    unicode-bidi: embed;\n    white-space: pre-wrap;\n    word-wrap: break-word;\n    word-break: break-all;\n    font-family: \"Source Code Pro\", \"Menlo\", monospace;;\n    font-size: 13px;\n    color: #555;\n    margin-left: 4px;\n    line-height: 19px;\n  }\n</style>\n<div class=\"ansiout\">Out[10]: [(&#39;prod_category&#39;, &#39;string&#39;),\n (&#39;prod_title_desc&#39;, &#39;string&#39;),\n (&#39;words&#39;, &#39;array&lt;string&gt;&#39;)]</div>"
            ]
          }
        }
      ],
      "execution_count": null
    },
    {
      "cell_type": "markdown",
      "source": [
        "### 3.2 Count Vectorizer"
      ],
      "metadata": {
        "application/vnd.databricks.v1+cell": {
          "showTitle": false,
          "cellMetadata": {},
          "nuid": "92fa2f7c-44dd-48de-a130-1b7a100ee82a",
          "inputWidgets": {},
          "title": ""
        },
        "id": "Md1WfdMG-Dsb"
      }
    },
    {
      "cell_type": "code",
      "source": [
        "countVect = CountVectorizer(inputCol=\"words\", outputCol=\"features\", minDF=2.0,vocabSize=10000)\n",
        "cv_model = countVect.fit(data_token_sparkdf)"
      ],
      "metadata": {
        "application/vnd.databricks.v1+cell": {
          "showTitle": false,
          "cellMetadata": {},
          "nuid": "b97d6e71-fa10-4584-8033-5e22c8c3ebb0",
          "inputWidgets": {},
          "title": ""
        },
        "id": "KEUYkHNc-Dsc",
        "outputId": "48a208be-af8c-472d-c06e-f95d564fa569"
      },
      "outputs": [
        {
          "output_type": "display_data",
          "metadata": {
            "application/vnd.databricks.v1+output": {
              "datasetInfos": [],
              "data": "<div class=\"ansiout\"></div>",
              "removedWidgets": [],
              "addedWidgets": {},
              "metadata": {},
              "type": "html",
              "arguments": {}
            }
          },
          "data": {
            "text/html": [
              "<style scoped>\n  .ansiout {\n    display: block;\n    unicode-bidi: embed;\n    white-space: pre-wrap;\n    word-wrap: break-word;\n    word-break: break-all;\n    font-family: \"Source Code Pro\", \"Menlo\", monospace;;\n    font-size: 13px;\n    color: #555;\n    margin-left: 4px;\n    line-height: 19px;\n  }\n</style>\n<div class=\"ansiout\"></div>"
            ]
          }
        }
      ],
      "execution_count": null
    },
    {
      "cell_type": "code",
      "source": [
        "data_cv_sparkdf = cv_model.transform(data_token_sparkdf)"
      ],
      "metadata": {
        "application/vnd.databricks.v1+cell": {
          "showTitle": false,
          "cellMetadata": {},
          "nuid": "3bb3f991-8290-4022-acd7-1af9d27e74df",
          "inputWidgets": {},
          "title": ""
        },
        "id": "qPw2QGgW-Dsc",
        "outputId": "38a403a6-2f08-4abf-b062-8884369ce143"
      },
      "outputs": [
        {
          "output_type": "display_data",
          "metadata": {
            "application/vnd.databricks.v1+output": {
              "datasetInfos": [],
              "data": "<div class=\"ansiout\"></div>",
              "removedWidgets": [],
              "addedWidgets": {},
              "metadata": {},
              "type": "html",
              "arguments": {}
            }
          },
          "data": {
            "text/html": [
              "<style scoped>\n  .ansiout {\n    display: block;\n    unicode-bidi: embed;\n    white-space: pre-wrap;\n    word-wrap: break-word;\n    word-break: break-all;\n    font-family: \"Source Code Pro\", \"Menlo\", monospace;;\n    font-size: 13px;\n    color: #555;\n    margin-left: 4px;\n    line-height: 19px;\n  }\n</style>\n<div class=\"ansiout\"></div>"
            ]
          }
        }
      ],
      "execution_count": null
    },
    {
      "cell_type": "markdown",
      "source": [
        "### 3.3 Logistic Regression"
      ],
      "metadata": {
        "application/vnd.databricks.v1+cell": {
          "showTitle": false,
          "cellMetadata": {},
          "nuid": "4bdbda8c-86f1-4abc-b1a4-e1f84a02abeb",
          "inputWidgets": {},
          "title": ""
        },
        "id": "DLdLsPpu-Dsd"
      }
    },
    {
      "cell_type": "code",
      "source": [
        "### Label conversion into numerical varaible\n",
        "indexer = StringIndexer(inputCol='prod_category', outputCol='label').fit(data_cv_sparkdf)\n",
        "data_label_sparkdf = indexer.transform(data_cv_sparkdf)"
      ],
      "metadata": {
        "application/vnd.databricks.v1+cell": {
          "showTitle": false,
          "cellMetadata": {},
          "nuid": "75508c1f-74d9-41b8-8413-1b82731ef5a4",
          "inputWidgets": {},
          "title": ""
        },
        "id": "S_8NP3l2-Dsd",
        "outputId": "a0466574-1b3a-4ba6-8f75-ad21a50dfd90"
      },
      "outputs": [
        {
          "output_type": "display_data",
          "metadata": {
            "application/vnd.databricks.v1+output": {
              "datasetInfos": [],
              "data": "<div class=\"ansiout\"></div>",
              "removedWidgets": [],
              "addedWidgets": {},
              "metadata": {},
              "type": "html",
              "arguments": {}
            }
          },
          "data": {
            "text/html": [
              "<style scoped>\n  .ansiout {\n    display: block;\n    unicode-bidi: embed;\n    white-space: pre-wrap;\n    word-wrap: break-word;\n    word-break: break-all;\n    font-family: \"Source Code Pro\", \"Menlo\", monospace;;\n    font-size: 13px;\n    color: #555;\n    margin-left: 4px;\n    line-height: 19px;\n  }\n</style>\n<div class=\"ansiout\"></div>"
            ]
          }
        }
      ],
      "execution_count": null
    },
    {
      "cell_type": "code",
      "source": [
        "data_label_sparkdf.select('label').distinct().collect()"
      ],
      "metadata": {
        "application/vnd.databricks.v1+cell": {
          "showTitle": false,
          "cellMetadata": {},
          "nuid": "3c8ac6db-1fd2-4a5b-90b5-9139f3d41925",
          "inputWidgets": {},
          "title": ""
        },
        "id": "SDwmvf6E-Dsd",
        "outputId": "8a256143-f90a-4873-d120-332ad484fdf2"
      },
      "outputs": [
        {
          "output_type": "display_data",
          "metadata": {
            "application/vnd.databricks.v1+output": {
              "datasetInfos": [],
              "data": "<div class=\"ansiout\">Out[24]: [Row(label=0.0), Row(label=1.0), Row(label=3.0), Row(label=2.0)]</div>",
              "removedWidgets": [],
              "addedWidgets": {},
              "metadata": {},
              "type": "html",
              "arguments": {}
            }
          },
          "data": {
            "text/html": [
              "<style scoped>\n  .ansiout {\n    display: block;\n    unicode-bidi: embed;\n    white-space: pre-wrap;\n    word-wrap: break-word;\n    word-break: break-all;\n    font-family: \"Source Code Pro\", \"Menlo\", monospace;;\n    font-size: 13px;\n    color: #555;\n    margin-left: 4px;\n    line-height: 19px;\n  }\n</style>\n<div class=\"ansiout\">Out[24]: [Row(label=0.0), Row(label=1.0), Row(label=3.0), Row(label=2.0)]</div>"
            ]
          }
        }
      ],
      "execution_count": null
    },
    {
      "cell_type": "code",
      "source": [
        "lr = LogisticRegression(maxIter=10, regParam=0.001)\n",
        "lr.fit(data_label_sparkdf)\n",
        "lr"
      ],
      "metadata": {
        "application/vnd.databricks.v1+cell": {
          "showTitle": false,
          "cellMetadata": {},
          "nuid": "0dac395f-9c12-4d60-ad81-ddc5d50ddfcf",
          "inputWidgets": {},
          "title": ""
        },
        "id": "r_RP3jf9-Dse",
        "outputId": "e2a55c69-d12a-4057-8b18-1de6f32c6247"
      },
      "outputs": [
        {
          "output_type": "display_data",
          "metadata": {
            "application/vnd.databricks.v1+output": {
              "datasetInfos": [],
              "data": "<div class=\"ansiout\">Out[27]: LogisticRegression_bfbbe327c845</div>",
              "removedWidgets": [],
              "addedWidgets": {},
              "metadata": {},
              "type": "html",
              "arguments": {}
            }
          },
          "data": {
            "text/html": [
              "<style scoped>\n  .ansiout {\n    display: block;\n    unicode-bidi: embed;\n    white-space: pre-wrap;\n    word-wrap: break-word;\n    word-break: break-all;\n    font-family: \"Source Code Pro\", \"Menlo\", monospace;;\n    font-size: 13px;\n    color: #555;\n    margin-left: 4px;\n    line-height: 19px;\n  }\n</style>\n<div class=\"ansiout\">Out[27]: LogisticRegression_bfbbe327c845</div>"
            ]
          }
        }
      ],
      "execution_count": null
    },
    {
      "cell_type": "markdown",
      "source": [
        "## 4. Testing Pipeline"
      ],
      "metadata": {
        "application/vnd.databricks.v1+cell": {
          "showTitle": false,
          "cellMetadata": {},
          "nuid": "30e87034-d1ce-40b5-80a3-85044cfde0b4",
          "inputWidgets": {},
          "title": ""
        },
        "id": "sJciB2k8-Dse"
      }
    },
    {
      "cell_type": "code",
      "source": [
        "### Tokenize text\n",
        "tokenizer = Tokenizer(inputCol=\"prod_title_desc\", outputCol=\"words\")\n",
        "### Count Vectorizer BOW\n",
        "countVect = CountVectorizer(inputCol=\"words\", outputCol=\"features\", minDF=2.0,vocabSize=10000)\n",
        "### Label column encoding\n",
        "indexer = StringIndexer(inputCol='prod_category', outputCol='label')\n",
        "### Logistic regression model\n",
        "lr = LogisticRegression(maxIter=10, regParam=0.001)\n",
        "\n",
        "### Define pipeline\n",
        "pipeline = Pipeline(stages=[tokenizer,countVect,indexer,lr])\n"
      ],
      "metadata": {
        "application/vnd.databricks.v1+cell": {
          "showTitle": false,
          "cellMetadata": {},
          "nuid": "790068bc-aa2f-4740-b81c-fb7685909d5b",
          "inputWidgets": {},
          "title": ""
        },
        "id": "t8cdkNlb-Dse",
        "outputId": "62b55081-553e-46c2-aee6-afcdf5486fca"
      },
      "outputs": [
        {
          "output_type": "display_data",
          "metadata": {
            "application/vnd.databricks.v1+output": {
              "datasetInfos": [],
              "data": "<div class=\"ansiout\"></div>",
              "removedWidgets": [],
              "addedWidgets": {},
              "metadata": {},
              "type": "html",
              "arguments": {}
            }
          },
          "data": {
            "text/html": [
              "<style scoped>\n  .ansiout {\n    display: block;\n    unicode-bidi: embed;\n    white-space: pre-wrap;\n    word-wrap: break-word;\n    word-break: break-all;\n    font-family: \"Source Code Pro\", \"Menlo\", monospace;;\n    font-size: 13px;\n    color: #555;\n    margin-left: 4px;\n    line-height: 19px;\n  }\n</style>\n<div class=\"ansiout\"></div>"
            ]
          }
        }
      ],
      "execution_count": null
    },
    {
      "cell_type": "code",
      "source": [
        "# Fit the pipeline to training documents.\n",
        "model = pipeline.fit(train_sparkdf)"
      ],
      "metadata": {
        "application/vnd.databricks.v1+cell": {
          "showTitle": false,
          "cellMetadata": {},
          "nuid": "df0512e1-6913-409d-acaa-c6ed71190bb7",
          "inputWidgets": {},
          "title": ""
        },
        "id": "fkBgWGvC-Dse",
        "outputId": "d58668b3-e9eb-45ae-cbab-f99d3f4ca984"
      },
      "outputs": [
        {
          "output_type": "display_data",
          "metadata": {
            "application/vnd.databricks.v1+output": {
              "datasetInfos": [],
              "data": "<div class=\"ansiout\"></div>",
              "removedWidgets": [],
              "addedWidgets": {},
              "metadata": {},
              "type": "html",
              "arguments": {}
            }
          },
          "data": {
            "text/html": [
              "<style scoped>\n  .ansiout {\n    display: block;\n    unicode-bidi: embed;\n    white-space: pre-wrap;\n    word-wrap: break-word;\n    word-break: break-all;\n    font-family: \"Source Code Pro\", \"Menlo\", monospace;;\n    font-size: 13px;\n    color: #555;\n    margin-left: 4px;\n    line-height: 19px;\n  }\n</style>\n<div class=\"ansiout\"></div>"
            ]
          }
        }
      ],
      "execution_count": null
    },
    {
      "cell_type": "code",
      "source": [
        "result_sparkdf = model.transform(test_sparkdf).select(\"features\",\"prod_category\", \"label\", \"prediction\",\"probability\")\n",
        "result_sparkdf.show(10)\n",
        "result_df = result_sparkdf.toPandas()"
      ],
      "metadata": {
        "application/vnd.databricks.v1+cell": {
          "showTitle": false,
          "cellMetadata": {},
          "nuid": "fc0867a0-7935-4c45-a633-a6717f4a5020",
          "inputWidgets": {},
          "title": ""
        },
        "id": "ktxAZ1ts-Dsf",
        "outputId": "71e20fbb-7955-41c4-ded0-ee8a9378fc76"
      },
      "outputs": [
        {
          "output_type": "display_data",
          "metadata": {
            "application/vnd.databricks.v1+output": {
              "datasetInfos": [],
              "data": "<div class=\"ansiout\">+--------------------+-------------+-----+----------+--------------------+\n|            features|prod_category|label|prediction|         probability|\n+--------------------+-------------+-----+----------+--------------------+\n|(10000,[1,3,4,5,7...|    Household|  0.0|       3.0|[0.00471424386701...|\n|(10000,[1,2,3,4,6...|    Household|  0.0|       0.0|[0.99999403516901...|\n|(10000,[0,3,4,14,...|    Household|  0.0|       0.0|[0.96416381781802...|\n|(10000,[1,2,3,4,5...|    Household|  0.0|       0.0|[0.99999997175618...|\n|(10000,[19,33,53,...|    Household|  0.0|       0.0|[0.92478902151797...|\n|(10000,[19,30,33,...|    Household|  0.0|       0.0|[0.82983652466793...|\n|(10000,[1,2,3,5,6...|    Household|  0.0|       0.0|[0.99717141083608...|\n|(10000,[0,1,3,4,5...|    Household|  0.0|       0.0|[0.99992659267039...|\n|(10000,[53,64,554...|    Household|  0.0|       0.0|[0.64282030231556...|\n|(10000,[0,2,5,6,7...|    Household|  0.0|       0.0|[0.99994596219883...|\n+--------------------+-------------+-----+----------+--------------------+\nonly showing top 10 rows\n\n</div>",
              "removedWidgets": [],
              "addedWidgets": {},
              "metadata": {},
              "type": "html",
              "arguments": {}
            }
          },
          "data": {
            "text/html": [
              "<style scoped>\n  .ansiout {\n    display: block;\n    unicode-bidi: embed;\n    white-space: pre-wrap;\n    word-wrap: break-word;\n    word-break: break-all;\n    font-family: \"Source Code Pro\", \"Menlo\", monospace;;\n    font-size: 13px;\n    color: #555;\n    margin-left: 4px;\n    line-height: 19px;\n  }\n</style>\n<div class=\"ansiout\">+--------------------+-------------+-----+----------+--------------------+\n            features|prod_category|label|prediction|         probability|\n+--------------------+-------------+-----+----------+--------------------+\n(10000,[1,3,4,5,7...|    Household|  0.0|       3.0|[0.00471424386701...|\n(10000,[1,2,3,4,6...|    Household|  0.0|       0.0|[0.99999403516901...|\n(10000,[0,3,4,14,...|    Household|  0.0|       0.0|[0.96416381781802...|\n(10000,[1,2,3,4,5...|    Household|  0.0|       0.0|[0.99999997175618...|\n(10000,[19,33,53,...|    Household|  0.0|       0.0|[0.92478902151797...|\n(10000,[19,30,33,...|    Household|  0.0|       0.0|[0.82983652466793...|\n(10000,[1,2,3,5,6...|    Household|  0.0|       0.0|[0.99717141083608...|\n(10000,[0,1,3,4,5...|    Household|  0.0|       0.0|[0.99992659267039...|\n(10000,[53,64,554...|    Household|  0.0|       0.0|[0.64282030231556...|\n(10000,[0,2,5,6,7...|    Household|  0.0|       0.0|[0.99994596219883...|\n+--------------------+-------------+-----+----------+--------------------+\nonly showing top 10 rows\n\n</div>"
            ]
          }
        }
      ],
      "execution_count": null
    },
    {
      "cell_type": "code",
      "source": [
        "print(classification_report(result_df.label, result_df.prediction))\n",
        "# result_df"
      ],
      "metadata": {
        "application/vnd.databricks.v1+cell": {
          "showTitle": false,
          "cellMetadata": {},
          "nuid": "bab150a2-e4fc-4817-a8d0-cb0e1614dfae",
          "inputWidgets": {},
          "title": ""
        },
        "id": "oDOB4csc-Dsf",
        "outputId": "53aa2837-664a-46e5-f77e-5ae77d03b7a8"
      },
      "outputs": [
        {
          "output_type": "display_data",
          "metadata": {
            "application/vnd.databricks.v1+output": {
              "datasetInfos": [],
              "data": "<div class=\"ansiout\">              precision    recall  f1-score   support\n\n         0.0       0.98      0.96      0.97      1924\n         1.0       0.94      0.98      0.96      1190\n         2.0       0.97      0.96      0.96      1033\n         3.0       0.97      0.97      0.97       827\n\n    accuracy                           0.97      4974\n   macro avg       0.96      0.97      0.97      4974\nweighted avg       0.97      0.97      0.97      4974\n\n</div>",
              "removedWidgets": [],
              "addedWidgets": {},
              "metadata": {},
              "type": "html",
              "arguments": {}
            }
          },
          "data": {
            "text/html": [
              "<style scoped>\n  .ansiout {\n    display: block;\n    unicode-bidi: embed;\n    white-space: pre-wrap;\n    word-wrap: break-word;\n    word-break: break-all;\n    font-family: \"Source Code Pro\", \"Menlo\", monospace;;\n    font-size: 13px;\n    color: #555;\n    margin-left: 4px;\n    line-height: 19px;\n  }\n</style>\n<div class=\"ansiout\">              precision    recall  f1-score   support\n\n         0.0       0.98      0.96      0.97      1924\n         1.0       0.94      0.98      0.96      1190\n         2.0       0.97      0.96      0.96      1033\n         3.0       0.97      0.97      0.97       827\n\n    accuracy                           0.97      4974\n   macro avg       0.96      0.97      0.97      4974\nweighted avg       0.97      0.97      0.97      4974\n\n</div>"
            ]
          }
        }
      ],
      "execution_count": null
    },
    {
      "cell_type": "markdown",
      "source": [
        "## 5. Pipeline + Cross-validation + Tuning"
      ],
      "metadata": {
        "application/vnd.databricks.v1+cell": {
          "showTitle": false,
          "cellMetadata": {},
          "nuid": "f45e936c-30cf-40a2-8e6b-60716632a4c5",
          "inputWidgets": {},
          "title": ""
        },
        "id": "weGgKkcL-Dsf"
      }
    },
    {
      "cell_type": "markdown",
      "source": [
        "### 5.1 Define Pipeline"
      ],
      "metadata": {
        "application/vnd.databricks.v1+cell": {
          "showTitle": false,
          "cellMetadata": {},
          "nuid": "71c5d275-640d-463f-b5a0-652e9984ff82",
          "inputWidgets": {},
          "title": ""
        },
        "id": "U9fl523b-Dsf"
      }
    },
    {
      "cell_type": "code",
      "source": [
        "### Tokenize text\n",
        "tokenizer = Tokenizer(inputCol=\"prod_title_desc\", outputCol=\"words\")\n",
        "### Count Vectorizer BOW\n",
        "countVect = CountVectorizer(inputCol=\"words\", outputCol=\"features\")\n",
        "### Label column encoding\n",
        "indexer = StringIndexer(inputCol='prod_category', outputCol='label')\n",
        "### Logistic regression model\n",
        "lr = LogisticRegression(maxIter=10)\n",
        "\n",
        "### Define pipeline\n",
        "pipeline = Pipeline(stages=[tokenizer,countVect,indexer,lr])\n"
      ],
      "metadata": {
        "application/vnd.databricks.v1+cell": {
          "showTitle": false,
          "cellMetadata": {},
          "nuid": "8f2c1147-cb2e-49de-9053-bccc1ea68c82",
          "inputWidgets": {},
          "title": ""
        },
        "id": "f7FHGcdb-Dsg",
        "outputId": "73de5da0-e1f8-4f6b-9444-e320c1cb76fc"
      },
      "outputs": [
        {
          "output_type": "display_data",
          "metadata": {
            "application/vnd.databricks.v1+output": {
              "datasetInfos": [],
              "data": "<div class=\"ansiout\"></div>",
              "removedWidgets": [],
              "addedWidgets": {},
              "metadata": {},
              "type": "html",
              "arguments": {}
            }
          },
          "data": {
            "text/html": [
              "<style scoped>\n  .ansiout {\n    display: block;\n    unicode-bidi: embed;\n    white-space: pre-wrap;\n    word-wrap: break-word;\n    word-break: break-all;\n    font-family: \"Source Code Pro\", \"Menlo\", monospace;;\n    font-size: 13px;\n    color: #555;\n    margin-left: 4px;\n    line-height: 19px;\n  }\n</style>\n<div class=\"ansiout\"></div>"
            ]
          }
        }
      ],
      "execution_count": null
    },
    {
      "cell_type": "markdown",
      "source": [
        "### 5.2 Define Hyper-parameter grid"
      ],
      "metadata": {
        "application/vnd.databricks.v1+cell": {
          "showTitle": false,
          "cellMetadata": {},
          "nuid": "98032c8a-d9f3-4081-b4ca-29be11cfe5da",
          "inputWidgets": {},
          "title": ""
        },
        "id": "YFZGPHus-Dsg"
      }
    },
    {
      "cell_type": "code",
      "source": [
        "### Grid hyper parameter search\n",
        "paramGrid = ParamGridBuilder() \\\n",
        "    .addGrid(countVect.minDF, [2.0, 5.0]) \\\n",
        "    .addGrid(countVect.vocabSize, [10000, 20000]) \\\n",
        "    .addGrid(lr.regParam, [0.1, 0.01]) \\\n",
        "    .build()"
      ],
      "metadata": {
        "application/vnd.databricks.v1+cell": {
          "showTitle": false,
          "cellMetadata": {},
          "nuid": "200a62bf-8e16-49a3-abae-e1c1e2dc10b7",
          "inputWidgets": {},
          "title": ""
        },
        "id": "zlL0GXg7-Dsg",
        "outputId": "0253c6bf-db83-48e7-ba00-09528afe6365"
      },
      "outputs": [
        {
          "output_type": "display_data",
          "metadata": {
            "application/vnd.databricks.v1+output": {
              "datasetInfos": [],
              "data": "<div class=\"ansiout\"></div>",
              "removedWidgets": [],
              "addedWidgets": {},
              "metadata": {},
              "type": "html",
              "arguments": {}
            }
          },
          "data": {
            "text/html": [
              "<style scoped>\n  .ansiout {\n    display: block;\n    unicode-bidi: embed;\n    white-space: pre-wrap;\n    word-wrap: break-word;\n    word-break: break-all;\n    font-family: \"Source Code Pro\", \"Menlo\", monospace;;\n    font-size: 13px;\n    color: #555;\n    margin-left: 4px;\n    line-height: 19px;\n  }\n</style>\n<div class=\"ansiout\"></div>"
            ]
          }
        }
      ],
      "execution_count": null
    },
    {
      "cell_type": "markdown",
      "source": [
        "### 5.3 Define Cross validation params"
      ],
      "metadata": {
        "application/vnd.databricks.v1+cell": {
          "showTitle": false,
          "cellMetadata": {},
          "nuid": "d9d67dc5-954e-412a-9b1e-10c904c1b776",
          "inputWidgets": {},
          "title": ""
        },
        "id": "R-ijQTww-Dsh"
      }
    },
    {
      "cell_type": "code",
      "source": [
        "### Cross validation\n",
        "crossval = CrossValidator(estimator=pipeline,\n",
        "                          estimatorParamMaps=paramGrid,\n",
        "                          evaluator=MulticlassClassificationEvaluator(),\n",
        "                          numFolds=5)"
      ],
      "metadata": {
        "application/vnd.databricks.v1+cell": {
          "showTitle": false,
          "cellMetadata": {},
          "nuid": "4c419f16-e66f-44d1-8a30-4e5e9c840bfe",
          "inputWidgets": {},
          "title": ""
        },
        "id": "Odmpd7la-Dsh",
        "outputId": "daea9bcd-abac-44f7-ee47-b631668f75b4"
      },
      "outputs": [
        {
          "output_type": "display_data",
          "metadata": {
            "application/vnd.databricks.v1+output": {
              "datasetInfos": [],
              "data": "<div class=\"ansiout\"></div>",
              "removedWidgets": [],
              "addedWidgets": {},
              "metadata": {},
              "type": "html",
              "arguments": {}
            }
          },
          "data": {
            "text/html": [
              "<style scoped>\n  .ansiout {\n    display: block;\n    unicode-bidi: embed;\n    white-space: pre-wrap;\n    word-wrap: break-word;\n    word-break: break-all;\n    font-family: \"Source Code Pro\", \"Menlo\", monospace;;\n    font-size: 13px;\n    color: #555;\n    margin-left: 4px;\n    line-height: 19px;\n  }\n</style>\n<div class=\"ansiout\"></div>"
            ]
          }
        }
      ],
      "execution_count": null
    },
    {
      "cell_type": "markdown",
      "source": [
        "### 5.4 Get best CV model"
      ],
      "metadata": {
        "application/vnd.databricks.v1+cell": {
          "showTitle": false,
          "cellMetadata": {},
          "nuid": "ee2735f4-5a40-4cb4-a0de-7574c86febfa",
          "inputWidgets": {},
          "title": ""
        },
        "id": "IJQwn1OJ-Dsh"
      }
    },
    {
      "cell_type": "code",
      "source": [
        "### Run cross-validation, and choose the best set of parameters.\n",
        "cvModel = crossval.fit(train_sparkdf)"
      ],
      "metadata": {
        "application/vnd.databricks.v1+cell": {
          "showTitle": false,
          "cellMetadata": {},
          "nuid": "e7600d4a-2afd-4c9a-8192-2384097a8fa7",
          "inputWidgets": {},
          "title": ""
        },
        "id": "M01R4Fym-Dsh",
        "outputId": "68a0efc5-bd01-4e62-83ff-d97b6bdaab94"
      },
      "outputs": [
        {
          "output_type": "display_data",
          "metadata": {
            "application/vnd.databricks.v1+output": {
              "datasetInfos": [],
              "data": "<div class=\"ansiout\"></div>",
              "removedWidgets": [],
              "addedWidgets": {},
              "metadata": {},
              "type": "html",
              "arguments": {}
            }
          },
          "data": {
            "text/html": [
              "<style scoped>\n  .ansiout {\n    display: block;\n    unicode-bidi: embed;\n    white-space: pre-wrap;\n    word-wrap: break-word;\n    word-break: break-all;\n    font-family: \"Source Code Pro\", \"Menlo\", monospace;;\n    font-size: 13px;\n    color: #555;\n    margin-left: 4px;\n    line-height: 19px;\n  }\n</style>\n<div class=\"ansiout\"></div>"
            ]
          }
        }
      ],
      "execution_count": null
    },
    {
      "cell_type": "markdown",
      "source": [
        "### 5.5 Predictions from best CV model"
      ],
      "metadata": {
        "application/vnd.databricks.v1+cell": {
          "showTitle": false,
          "cellMetadata": {},
          "nuid": "07cf5a9e-167a-42fd-b131-6f1c94743521",
          "inputWidgets": {},
          "title": ""
        },
        "id": "AhGWII7O-Dsi"
      }
    },
    {
      "cell_type": "code",
      "source": [
        "### Make predictions on test documents. cvModel uses the best model found \n",
        "prediction = cvModel.transform(test_sparkdf).select(\"features\",\"prod_category\", \"label\", \"prediction\",\"probability\")\n",
        "prediction.show(10)"
      ],
      "metadata": {
        "application/vnd.databricks.v1+cell": {
          "showTitle": false,
          "cellMetadata": {},
          "nuid": "11a400e9-a772-49e6-810d-aae84c8b967a",
          "inputWidgets": {},
          "title": ""
        },
        "id": "RsC8rcbW-Dsi",
        "outputId": "3492920b-3adb-4546-96a0-b3090d762dfc"
      },
      "outputs": [
        {
          "output_type": "display_data",
          "metadata": {
            "application/vnd.databricks.v1+output": {
              "datasetInfos": [],
              "data": "<div class=\"ansiout\">+--------------------+-------------+-----+----------+--------------------+\n|            features|prod_category|label|prediction|         probability|\n+--------------------+-------------+-----+----------+--------------------+\n|(20000,[1,3,4,5,7...|    Household|  0.0|       0.0|[0.99202870896834...|\n|(20000,[1,2,3,4,6...|    Household|  0.0|       0.0|[0.99675271271835...|\n|(20000,[0,3,4,14,...|    Household|  0.0|       0.0|[0.91800144377381...|\n|(20000,[1,2,3,4,5...|    Household|  0.0|       0.0|[0.99999841241047...|\n|(20000,[19,33,53,...|    Household|  0.0|       0.0|[0.66360507267709...|\n|(20000,[19,30,33,...|    Household|  0.0|       0.0|[0.52405290548940...|\n|(20000,[1,2,3,5,6...|    Household|  0.0|       0.0|[0.93160616054168...|\n|(20000,[0,1,3,4,5...|    Household|  0.0|       0.0|[0.99350208899459...|\n|(20000,[53,64,555...|    Household|  0.0|       0.0|[0.48147301526557...|\n|(20000,[0,2,5,6,7...|    Household|  0.0|       0.0|[0.99218608369846...|\n+--------------------+-------------+-----+----------+--------------------+\nonly showing top 10 rows\n\n</div>",
              "removedWidgets": [],
              "addedWidgets": {},
              "metadata": {},
              "type": "html",
              "arguments": {}
            }
          },
          "data": {
            "text/html": [
              "<style scoped>\n  .ansiout {\n    display: block;\n    unicode-bidi: embed;\n    white-space: pre-wrap;\n    word-wrap: break-word;\n    word-break: break-all;\n    font-family: \"Source Code Pro\", \"Menlo\", monospace;;\n    font-size: 13px;\n    color: #555;\n    margin-left: 4px;\n    line-height: 19px;\n  }\n</style>\n<div class=\"ansiout\">+--------------------+-------------+-----+----------+--------------------+\n            features|prod_category|label|prediction|         probability|\n+--------------------+-------------+-----+----------+--------------------+\n(20000,[1,3,4,5,7...|    Household|  0.0|       0.0|[0.99202870896834...|\n(20000,[1,2,3,4,6...|    Household|  0.0|       0.0|[0.99675271271835...|\n(20000,[0,3,4,14,...|    Household|  0.0|       0.0|[0.91800144377381...|\n(20000,[1,2,3,4,5...|    Household|  0.0|       0.0|[0.99999841241047...|\n(20000,[19,33,53,...|    Household|  0.0|       0.0|[0.66360507267709...|\n(20000,[19,30,33,...|    Household|  0.0|       0.0|[0.52405290548940...|\n(20000,[1,2,3,5,6...|    Household|  0.0|       0.0|[0.93160616054168...|\n(20000,[0,1,3,4,5...|    Household|  0.0|       0.0|[0.99350208899459...|\n(20000,[53,64,555...|    Household|  0.0|       0.0|[0.48147301526557...|\n(20000,[0,2,5,6,7...|    Household|  0.0|       0.0|[0.99218608369846...|\n+--------------------+-------------+-----+----------+--------------------+\nonly showing top 10 rows\n\n</div>"
            ]
          }
        }
      ],
      "execution_count": null
    },
    {
      "cell_type": "markdown",
      "source": [
        "### 5.6 Compute Eval metrics"
      ],
      "metadata": {
        "application/vnd.databricks.v1+cell": {
          "showTitle": false,
          "cellMetadata": {},
          "nuid": "3c6a62bd-16e9-4d8e-8316-e1631c38cbcf",
          "inputWidgets": {},
          "title": ""
        },
        "id": "7h3nMhW4-Dsi"
      }
    },
    {
      "cell_type": "code",
      "source": [
        "### Convert to Pandas DF to compute evaluation metrics\n",
        "result_df = prediction.toPandas()\n",
        "print(classification_report(result_df.label, result_df.prediction))"
      ],
      "metadata": {
        "application/vnd.databricks.v1+cell": {
          "showTitle": false,
          "cellMetadata": {},
          "nuid": "cb7e045f-a4c1-4608-bcbc-5bd6e6c4db28",
          "inputWidgets": {},
          "title": ""
        },
        "id": "hLWr4eBT-Dsj",
        "outputId": "66d597b3-ab07-45a6-8773-d6e9997bc98b"
      },
      "outputs": [
        {
          "output_type": "display_data",
          "metadata": {
            "application/vnd.databricks.v1+output": {
              "datasetInfos": [],
              "data": "<div class=\"ansiout\">/databricks/spark/python/pyspark/sql/pandas/conversion.py:92: UserWarning: toPandas attempted Arrow optimization because &#39;spark.sql.execution.arrow.pyspark.enabled&#39; is set to true; however, failed by the reason below:\n  Unable to convert the field features. If this column is not necessary, you may consider dropping it or converting to primitive type before the conversion.\nDirect cause: Unsupported type in conversion to Arrow: VectorUDT\nAttempting non-optimization as &#39;spark.sql.execution.arrow.pyspark.fallback.enabled&#39; is set to true.\n  warnings.warn(msg)\n              precision    recall  f1-score   support\n\n         0.0       0.98      0.97      0.98      1924\n         1.0       0.96      0.98      0.97      1190\n         2.0       0.97      0.96      0.97      1033\n         3.0       0.99      0.97      0.98       827\n\n    accuracy                           0.97      4974\n   macro avg       0.97      0.97      0.97      4974\nweighted avg       0.97      0.97      0.97      4974\n\n</div>",
              "removedWidgets": [],
              "addedWidgets": {},
              "metadata": {},
              "type": "html",
              "arguments": {}
            }
          },
          "data": {
            "text/html": [
              "<style scoped>\n  .ansiout {\n    display: block;\n    unicode-bidi: embed;\n    white-space: pre-wrap;\n    word-wrap: break-word;\n    word-break: break-all;\n    font-family: \"Source Code Pro\", \"Menlo\", monospace;;\n    font-size: 13px;\n    color: #555;\n    margin-left: 4px;\n    line-height: 19px;\n  }\n</style>\n<div class=\"ansiout\">/databricks/spark/python/pyspark/sql/pandas/conversion.py:92: UserWarning: toPandas attempted Arrow optimization because &#39;spark.sql.execution.arrow.pyspark.enabled&#39; is set to true; however, failed by the reason below:\n  Unable to convert the field features. If this column is not necessary, you may consider dropping it or converting to primitive type before the conversion.\nDirect cause: Unsupported type in conversion to Arrow: VectorUDT\nAttempting non-optimization as &#39;spark.sql.execution.arrow.pyspark.fallback.enabled&#39; is set to true.\n  warnings.warn(msg)\n              precision    recall  f1-score   support\n\n         0.0       0.98      0.97      0.98      1924\n         1.0       0.96      0.98      0.97      1190\n         2.0       0.97      0.96      0.97      1033\n         3.0       0.99      0.97      0.98       827\n\n    accuracy                           0.97      4974\n   macro avg       0.97      0.97      0.97      4974\nweighted avg       0.97      0.97      0.97      4974\n\n</div>"
            ]
          }
        }
      ],
      "execution_count": null
    }
  ],
  "metadata": {
    "application/vnd.databricks.v1+notebook": {
      "notebookName": "Pyspark_Text_Classification",
      "dashboards": [],
      "notebookMetadata": {
        "pythonIndentUnit": 2
      },
      "language": "python",
      "widgets": {},
      "notebookOrigID": 410290224129858
    },
    "colab": {
      "provenance": [],
      "toc_visible": true
    }
  },
  "nbformat": 4,
  "nbformat_minor": 0
}
